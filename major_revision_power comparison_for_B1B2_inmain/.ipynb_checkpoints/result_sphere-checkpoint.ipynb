{
 "cells": [
  {
   "cell_type": "code",
   "execution_count": 1,
   "id": "bb796624",
   "metadata": {},
   "outputs": [
    {
     "name": "stderr",
     "output_type": "stream",
     "text": [
      "/Users/junhaozhu/opt/anaconda3/lib/python3.9/site-packages/pandas/core/computation/expressions.py:21: UserWarning: Pandas requires version '2.8.4' or newer of 'numexpr' (version '2.8.3' currently installed).\n",
      "  from pandas.core.computation.check import NUMEXPR_INSTALLED\n",
      "/Users/junhaozhu/opt/anaconda3/lib/python3.9/site-packages/pandas/core/arrays/masked.py:60: UserWarning: Pandas requires version '1.3.6' or newer of 'bottleneck' (version '1.3.5' currently installed).\n",
      "  from pandas.core import (\n"
     ]
    }
   ],
   "source": [
    "import numpy as np\n",
    "import matplotlib.pyplot as plt\n",
    "import seaborn as sns\n",
    "import pandas as pd"
   ]
  },
  {
   "cell_type": "code",
   "execution_count": 2,
   "id": "4d7c1993",
   "metadata": {},
   "outputs": [],
   "source": [
    "tau_lst = [0,0.25,0.5,0.75,1.0,0.125,0.375]\n",
    "\n",
    "T_lst=[50,100,500]\n",
    " "
   ]
  },
  {
   "cell_type": "code",
   "execution_count": 5,
   "id": "32e9bc8a",
   "metadata": {},
   "outputs": [],
   "source": [
    "p3lst = []\n",
    "#p2lst = []\n",
    "for a in range(len(tau_lst)):\n",
    "    for b in range(len(T_lst)):\n",
    "        tau = tau_lst[a]\n",
    "        T =T_lst[b]# sample size\n",
    "        p3now = np.load('first-order-power-origin/sphere_pval_eu' +'_tau_'+str(a)+'_T_'+str(b)+'.npy')\n",
    "        #p2now=np.load('pval_bias' +'_tau_'+str(a)+'_T_'+str(b)+'.npy')\n",
    "        p3lst.append((tau,np.rint(T) , np.mean(p3now<=0.05) ))\n",
    "        #p2lst.append((tau,np.rint(T) , np.mean(p2now<=0.05)))"
   ]
  },
  {
   "cell_type": "code",
   "execution_count": null,
   "id": "6d3211ae",
   "metadata": {},
   "outputs": [],
   "source": [
    "\n",
    "# Assuming p3lst is defined and contains your data\n",
    "p3_array = np.array(p3lst, dtype=[('tau', 'f4'), ('T', 'f4'), ('p', 'f4')])\n",
    "p3_df = pd.DataFrame(p3_array)\n",
    "\n",
    "# Define a color palette and markers\n",
    "palette = sns.color_palette(\"Set2\")  # You can choose other palettes\n",
    "markers = [\"o\", \"s\", \"^\", \"D\", \"x\", \"*\", \"P\"]  # Different marker styles\n",
    "\n",
    "# Plot using seaborn\n",
    "plt.figure(figsize=(8, 6))\n",
    "for i, (T, grp) in enumerate(p3_df.groupby('T')):\n",
    "    sns.lineplot(data=grp, x='tau', y='p', label=f'T={int(T)}',\n",
    "                 color=palette[i % len(palette)], marker=markers[i % len(markers)],markersize=15)\n",
    "\n",
    "#plt.title('Power curves for first order stationarity test in sphere', fontsize=15)\n",
    "plt.xlabel('tau',size=16)\n",
    "plt.ylabel('Power',size=16)\n",
    "plt.tick_params(axis='both', which='major', labelsize=14)\n",
    "plt.legend(title='T')\n",
    "plt.tight_layout()\n",
    "\n",
    "\n",
    "plt.savefig('Power_sphere_eu.png',facecolor='w')"
   ]
  }
 ],
 "metadata": {
  "kernelspec": {
   "display_name": "Python 3 (ipykernel)",
   "language": "python",
   "name": "python3"
  },
  "language_info": {
   "codemirror_mode": {
    "name": "ipython",
    "version": 3
   },
   "file_extension": ".py",
   "mimetype": "text/x-python",
   "name": "python",
   "nbconvert_exporter": "python",
   "pygments_lexer": "ipython3",
   "version": "3.9.7"
  }
 },
 "nbformat": 4,
 "nbformat_minor": 5
}
