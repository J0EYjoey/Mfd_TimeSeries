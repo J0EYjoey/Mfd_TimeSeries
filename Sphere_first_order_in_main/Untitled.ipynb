{
 "cells": [
  {
   "cell_type": "code",
   "execution_count": 1,
   "id": "d72f776b",
   "metadata": {},
   "outputs": [
    {
     "name": "stderr",
     "output_type": "stream",
     "text": [
      "INFO: Using numpy backend\n"
     ]
    }
   ],
   "source": [
    "import geomstats "
   ]
  },
  {
   "cell_type": "code",
   "execution_count": 2,
   "id": "574dcb43",
   "metadata": {},
   "outputs": [],
   "source": [
    "import numpy as np\n",
    "import sys\n",
    "import time\n",
    "from multiprocess import Pool\n",
    "import matplotlib.pyplot as plt\n",
    "\n",
    "import geomstats.backend as gs\n",
    "import geomstats.visualization as visualization\n",
    "\n",
    "from geomstats.learning.frechet_mean import FrechetMean\n",
    "from geomstats.geometry.matrices import Matrices, MatricesMetric\n",
    "\n",
    "from geomstats.geometry.symmetric_matrices import SymmetricMatrices\n",
    "from geomstats.geometry import spd_matrices"
   ]
  },
  {
   "cell_type": "code",
   "execution_count": 3,
   "id": "b89186aa",
   "metadata": {},
   "outputs": [],
   "source": [
    "d = 3\n",
    "mfd = spd_matrices.SPDMetricAffine(n=d, power_affine=1)\n",
    "aux = spd_matrices.SPDMatrices(n=d)"
   ]
  },
  {
   "cell_type": "code",
   "execution_count": null,
   "id": "2aa38bc1",
   "metadata": {},
   "outputs": [],
   "source": [
    "mfd.geodesic( )"
   ]
  }
 ],
 "metadata": {
  "kernelspec": {
   "display_name": "Python 3 (ipykernel)",
   "language": "python",
   "name": "python3"
  },
  "language_info": {
   "codemirror_mode": {
    "name": "ipython",
    "version": 3
   },
   "file_extension": ".py",
   "mimetype": "text/x-python",
   "name": "python",
   "nbconvert_exporter": "python",
   "pygments_lexer": "ipython3",
   "version": "3.9.7"
  }
 },
 "nbformat": 4,
 "nbformat_minor": 5
}
