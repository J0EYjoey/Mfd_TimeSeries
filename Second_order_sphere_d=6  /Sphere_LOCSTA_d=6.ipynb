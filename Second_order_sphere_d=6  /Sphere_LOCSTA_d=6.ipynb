{
 "cells": [
  {
   "cell_type": "code",
   "execution_count": 1,
   "id": "a7710098",
   "metadata": {},
   "outputs": [
    {
     "name": "stderr",
     "output_type": "stream",
     "text": [
      "INFO: Using numpy backend\n"
     ]
    }
   ],
   "source": [
    "import numpy as np\n",
    "import matplotlib.pyplot as plt\n",
    "import seaborn as sns\n",
    "import matplotlib.pyplot as plt\n",
    "\n",
    "import geomstats.backend as gs\n",
    "import geomstats.visualization as visualization\n",
    "\n",
    "from geomstats.learning.frechet_mean import FrechetMean\n",
    "from geomstats.geometry.matrices import Matrices, MatricesMetric"
   ]
  },
  {
   "cell_type": "code",
   "execution_count": 2,
   "id": "726f5309",
   "metadata": {},
   "outputs": [],
   "source": [
    "import pandas as pd"
   ]
  },
  {
   "cell_type": "code",
   "execution_count": 3,
   "id": "b851138f",
   "metadata": {},
   "outputs": [],
   "source": [
    "\n",
    "# define the manifold to be d*d spd matrix, d = 2 \n",
    "d=6\n",
    "from geomstats.geometry.hypersphere import Hypersphere\n",
    "\n",
    "sphere = Hypersphere(dim=d) \n",
    "mfd= sphere.metric\n"
   ]
  },
  {
   "cell_type": "code",
   "execution_count": 4,
   "id": "95daf863",
   "metadata": {},
   "outputs": [],
   "source": [
    "import numpy.fft as fft\n",
    "import scipy.stats as stats"
   ]
  },
  {
   "cell_type": "code",
   "execution_count": 5,
   "id": "f6f46e4e",
   "metadata": {},
   "outputs": [],
   "source": [
    "from tqdm import tqdm_notebook as tqdm"
   ]
  },
  {
   "cell_type": "code",
   "execution_count": 5,
   "id": "f02fba8d",
   "metadata": {},
   "outputs": [],
   "source": [
    "bp0 = np.array([0,0,0,0,0,0,1])\n",
    "\n",
    "def generate_sample_tangent_space(base=bp0,n_samples=1,sigma=1): \n",
    "    # generate i.i.d gaussian noise on tangent space \n",
    "    size = (n_samples, d) if n_samples != 1 else (1,d)\n",
    "    \n",
    "    tangent_vec_aux = sigma*(gs.random.uniform(size=size)-0.5)\n",
    "    tangent_vec = np.zeros(shape=(n_samples, d+1))\n",
    "    tangent_vec[:,:d]=tangent_vec_aux\n",
    "    #sqrt_base_point = gs.linalg.sqrtm(base_point)\n",
    "    return tangent_vec\n",
    "\n",
    "\n",
    "def generate_random_sample(base=bp0,n_samples=1,sigma=1):\n",
    "    # generate sample with Frechet mean equal the given base point.\n",
    "    tv =  generate_sample_tangent_space(base=base,n_samples=n_samples,sigma=sigma)\n",
    "    return mfd.exp(tangent_vec=tv,base_point=base)\n",
    "\n"
   ]
  },
  {
   "cell_type": "code",
   "execution_count": 6,
   "id": "c3fe9245",
   "metadata": {},
   "outputs": [],
   "source": [
    "#find or basis of T_p\n",
    "def Proj(x):\n",
    "    d = x.shape[0]\n",
    "    y = np.reshape(x,(d,1))\n",
    "    return(np.eye(d)-np.dot(y,y.T))\n",
    "\n",
    "def OR(x):\n",
    "    #return or basis for T_x S\n",
    "    P = Proj(x)\n",
    "    l,u= np.linalg.eig(P)\n",
    "    idx = l>0.001\n",
    "    #np.linalg.eig(P)\n",
    "    return u[:,idx]\n",
    "\n",
    "def coord(residual,x):\n",
    "    E = OR(x)\n",
    "    Y = np.dot(residual,E)\n",
    "    return(Y)\n",
    "\n",
    "def mft(Y):\n",
    "    d = Y.shape[1]\n",
    "    n = Y.shape[0]\n",
    "    l = n//2+1\n",
    "    D  = fft.fft(Y,axis=0)[0:l]/np.sqrt(2*np.pi*n)\n",
    "  \n",
    "    return D\n",
    "    "
   ]
  },
  {
   "cell_type": "code",
   "execution_count": 7,
   "id": "5df5e9c8",
   "metadata": {},
   "outputs": [],
   "source": [
    "def generate_ar_ts(base=bp0,n_samples=1,sigma=2,rho=0.5,burn = 500,tau=1):\n",
    "    # generate AR(1)  process X_t -mu = rho(t/n)(X_{t-1}-mu)+epsilon\n",
    "    ## rho(u) = 0.3+0.2*u^2\n",
    "    if n_samples ==1: \n",
    "        return generate_random_sample(base,n_samples=1)\n",
    "    else:\n",
    "        data_tv =np.zeros((n_samples, d+1))\n",
    "        delta = generate_sample_tangent_space(base=base, n_samples=1, sigma=1)\n",
    "        \n",
    "        for j in range(burn):\n",
    "            rhotmp =  rho\n",
    "    \n",
    "            noise =  generate_sample_tangent_space(base=gs.eye(d), n_samples=1, sigma=sigma)\n",
    "            delta = rhotmp*delta+noise\n",
    "            \n",
    "        data_tv[0,:] =  delta\n",
    "        \n",
    "        for i in range(1, n_samples):\n",
    "            u =i/n_samples\n",
    "            rhotmp = rho+ tau*(0.2*np.cos(2*u*np.pi)+u*(1-u)) \n",
    "            #rhotmp =  rho\n",
    "            inten = sigma*(0.5 + tau*u**2)\n",
    "            delta = data_tv[i - 1, :]\n",
    "            #inten =  sigma*(1+u**2)\n",
    "            noise = generate_sample_tangent_space(base=gs.eye(d), n_samples=1, sigma=inten)\n",
    "            data_tv[i,  :] = rhotmp * (delta) + noise\n",
    "        data =mfd.exp(tangent_vec=data_tv,base_point=base)\n",
    "        return(data)"
   ]
  },
  {
   "cell_type": "code",
   "execution_count": 10,
   "id": "aa3d4cfa",
   "metadata": {},
   "outputs": [
    {
     "name": "stderr",
     "output_type": "stream",
     "text": [
      "/var/folders/xl/kgnxbxpd1tl1dxlkp0qvtb180000gn/T/ipykernel_63565/468599825.py:18: TqdmDeprecationWarning: This function will be removed in tqdm==5.0.0\n",
      "Please use `tqdm.notebook.tqdm` instead of `tqdm.tqdm_notebook`\n",
      "  for kk in tqdm(range(repli_s)):\n"
     ]
    },
    {
     "data": {
      "application/vnd.jupyter.widget-view+json": {
       "model_id": "c290c6287ef346afac5d3c38bf77d98b",
       "version_major": 2,
       "version_minor": 0
      },
      "text/plain": [
       "  0%|          | 0/5000 [00:00<?, ?it/s]"
      ]
     },
     "metadata": {},
     "output_type": "display_data"
    },
    {
     "name": "stdout",
     "output_type": "stream",
     "text": [
      "0.1294\n"
     ]
    },
    {
     "data": {
      "application/vnd.jupyter.widget-view+json": {
       "model_id": "abc39bef667a4ace9b3c3f5cc429cb75",
       "version_major": 2,
       "version_minor": 0
      },
      "text/plain": [
       "  0%|          | 0/5000 [00:00<?, ?it/s]"
      ]
     },
     "metadata": {},
     "output_type": "display_data"
    },
    {
     "name": "stdout",
     "output_type": "stream",
     "text": [
      "0.0904\n"
     ]
    },
    {
     "data": {
      "application/vnd.jupyter.widget-view+json": {
       "model_id": "225a68e1cd7541bab7208ffd56ea1642",
       "version_major": 2,
       "version_minor": 0
      },
      "text/plain": [
       "  0%|          | 0/5000 [00:00<?, ?it/s]"
      ]
     },
     "metadata": {},
     "output_type": "display_data"
    },
    {
     "name": "stdout",
     "output_type": "stream",
     "text": [
      "0.071\n"
     ]
    },
    {
     "data": {
      "application/vnd.jupyter.widget-view+json": {
       "model_id": "1c5d5deae4a64c60ae19b69d9740e0a8",
       "version_major": 2,
       "version_minor": 0
      },
      "text/plain": [
       "  0%|          | 0/5000 [00:00<?, ?it/s]"
      ]
     },
     "metadata": {},
     "output_type": "display_data"
    },
    {
     "name": "stdout",
     "output_type": "stream",
     "text": [
      "0.0644\n"
     ]
    },
    {
     "data": {
      "application/vnd.jupyter.widget-view+json": {
       "model_id": "1f6a72d1233e4d62aed0d391f1695051",
       "version_major": 2,
       "version_minor": 0
      },
      "text/plain": [
       "  0%|          | 0/5000 [00:00<?, ?it/s]"
      ]
     },
     "metadata": {},
     "output_type": "display_data"
    },
    {
     "name": "stdout",
     "output_type": "stream",
     "text": [
      "0.2784\n"
     ]
    },
    {
     "data": {
      "application/vnd.jupyter.widget-view+json": {
       "model_id": "fe0eb4bd2e6e44c0bf7a471ef8464bb9",
       "version_major": 2,
       "version_minor": 0
      },
      "text/plain": [
       "  0%|          | 0/5000 [00:00<?, ?it/s]"
      ]
     },
     "metadata": {},
     "output_type": "display_data"
    },
    {
     "name": "stdout",
     "output_type": "stream",
     "text": [
      "0.2644\n"
     ]
    },
    {
     "data": {
      "application/vnd.jupyter.widget-view+json": {
       "model_id": "b9ce013cdd674093b002bb5d991a919b",
       "version_major": 2,
       "version_minor": 0
      },
      "text/plain": [
       "  0%|          | 0/5000 [00:00<?, ?it/s]"
      ]
     },
     "metadata": {},
     "output_type": "display_data"
    },
    {
     "name": "stdout",
     "output_type": "stream",
     "text": [
      "0.3036\n"
     ]
    },
    {
     "data": {
      "application/vnd.jupyter.widget-view+json": {
       "model_id": "5a4e96ff961c44ccb0c5ca12c9c4d804",
       "version_major": 2,
       "version_minor": 0
      },
      "text/plain": [
       "  0%|          | 0/5000 [00:00<?, ?it/s]"
      ]
     },
     "metadata": {},
     "output_type": "display_data"
    },
    {
     "name": "stdout",
     "output_type": "stream",
     "text": [
      "0.403\n"
     ]
    },
    {
     "data": {
      "application/vnd.jupyter.widget-view+json": {
       "model_id": "edb589f64c024cb5a1163664fb7574ee",
       "version_major": 2,
       "version_minor": 0
      },
      "text/plain": [
       "  0%|          | 0/5000 [00:00<?, ?it/s]"
      ]
     },
     "metadata": {},
     "output_type": "display_data"
    },
    {
     "name": "stdout",
     "output_type": "stream",
     "text": [
      "0.5632\n"
     ]
    },
    {
     "data": {
      "application/vnd.jupyter.widget-view+json": {
       "model_id": "6886989ba9be4103ab241205aec98d2d",
       "version_major": 2,
       "version_minor": 0
      },
      "text/plain": [
       "  0%|          | 0/5000 [00:00<?, ?it/s]"
      ]
     },
     "metadata": {},
     "output_type": "display_data"
    },
    {
     "name": "stdout",
     "output_type": "stream",
     "text": [
      "0.631\n"
     ]
    },
    {
     "data": {
      "application/vnd.jupyter.widget-view+json": {
       "model_id": "3256ad2ad5d54958abc25ed711b792ab",
       "version_major": 2,
       "version_minor": 0
      },
      "text/plain": [
       "  0%|          | 0/5000 [00:00<?, ?it/s]"
      ]
     },
     "metadata": {},
     "output_type": "display_data"
    },
    {
     "name": "stdout",
     "output_type": "stream",
     "text": [
      "0.7714\n"
     ]
    },
    {
     "data": {
      "application/vnd.jupyter.widget-view+json": {
       "model_id": "53d4bd3be0ab4f8f945a99f0ee3acbb4",
       "version_major": 2,
       "version_minor": 0
      },
      "text/plain": [
       "  0%|          | 0/5000 [00:00<?, ?it/s]"
      ]
     },
     "metadata": {},
     "output_type": "display_data"
    },
    {
     "name": "stdout",
     "output_type": "stream",
     "text": [
      "0.917\n"
     ]
    },
    {
     "data": {
      "application/vnd.jupyter.widget-view+json": {
       "model_id": "92b03c1a53c24d28b767890c8a15a3d6",
       "version_major": 2,
       "version_minor": 0
      },
      "text/plain": [
       "  0%|          | 0/5000 [00:00<?, ?it/s]"
      ]
     },
     "metadata": {},
     "output_type": "display_data"
    },
    {
     "name": "stdout",
     "output_type": "stream",
     "text": [
      "0.7724\n"
     ]
    },
    {
     "data": {
      "application/vnd.jupyter.widget-view+json": {
       "model_id": "53ab092bb9904c27b7bfbeefe251f871",
       "version_major": 2,
       "version_minor": 0
      },
      "text/plain": [
       "  0%|          | 0/5000 [00:00<?, ?it/s]"
      ]
     },
     "metadata": {},
     "output_type": "display_data"
    },
    {
     "name": "stdout",
     "output_type": "stream",
     "text": [
      "0.8488\n"
     ]
    },
    {
     "data": {
      "application/vnd.jupyter.widget-view+json": {
       "model_id": "ee362fbf6a9048708dd6f6266b65d38c",
       "version_major": 2,
       "version_minor": 0
      },
      "text/plain": [
       "  0%|          | 0/5000 [00:00<?, ?it/s]"
      ]
     },
     "metadata": {},
     "output_type": "display_data"
    },
    {
     "name": "stdout",
     "output_type": "stream",
     "text": [
      "0.9438\n"
     ]
    },
    {
     "data": {
      "application/vnd.jupyter.widget-view+json": {
       "model_id": "663b0d821a3d45618c41fe32e681ae57",
       "version_major": 2,
       "version_minor": 0
      },
      "text/plain": [
       "  0%|          | 0/5000 [00:00<?, ?it/s]"
      ]
     },
     "metadata": {},
     "output_type": "display_data"
    },
    {
     "name": "stdout",
     "output_type": "stream",
     "text": [
      "0.9924\n"
     ]
    },
    {
     "data": {
      "application/vnd.jupyter.widget-view+json": {
       "model_id": "ab1e30ad3aa34784a801e43132c93a8b",
       "version_major": 2,
       "version_minor": 0
      },
      "text/plain": [
       "  0%|          | 0/5000 [00:00<?, ?it/s]"
      ]
     },
     "metadata": {},
     "output_type": "display_data"
    },
    {
     "name": "stdout",
     "output_type": "stream",
     "text": [
      "0.891\n"
     ]
    },
    {
     "data": {
      "application/vnd.jupyter.widget-view+json": {
       "model_id": "c0f4656d459848bca6f21459e2203df0",
       "version_major": 2,
       "version_minor": 0
      },
      "text/plain": [
       "  0%|          | 0/5000 [00:00<?, ?it/s]"
      ]
     },
     "metadata": {},
     "output_type": "display_data"
    },
    {
     "name": "stdout",
     "output_type": "stream",
     "text": [
      "0.9266\n"
     ]
    },
    {
     "data": {
      "application/vnd.jupyter.widget-view+json": {
       "model_id": "be6a73e20952459382af0c0618f63aee",
       "version_major": 2,
       "version_minor": 0
      },
      "text/plain": [
       "  0%|          | 0/5000 [00:00<?, ?it/s]"
      ]
     },
     "metadata": {},
     "output_type": "display_data"
    },
    {
     "name": "stdout",
     "output_type": "stream",
     "text": [
      "0.9766\n"
     ]
    },
    {
     "data": {
      "application/vnd.jupyter.widget-view+json": {
       "model_id": "61d8ebc135f94ec3be44113fd9505358",
       "version_major": 2,
       "version_minor": 0
      },
      "text/plain": [
       "  0%|          | 0/5000 [00:00<?, ?it/s]"
      ]
     },
     "metadata": {},
     "output_type": "display_data"
    },
    {
     "name": "stdout",
     "output_type": "stream",
     "text": [
      "0.9992\n"
     ]
    },
    {
     "data": {
      "application/vnd.jupyter.widget-view+json": {
       "model_id": "860eb58857074f749df9c95b11891732",
       "version_major": 2,
       "version_minor": 0
      },
      "text/plain": [
       "  0%|          | 0/5000 [00:00<?, ?it/s]"
      ]
     },
     "metadata": {},
     "output_type": "display_data"
    },
    {
     "name": "stdout",
     "output_type": "stream",
     "text": [
      "0.9492\n"
     ]
    },
    {
     "data": {
      "application/vnd.jupyter.widget-view+json": {
       "model_id": "f81eee9561504fa99ad4aaa62d2977cc",
       "version_major": 2,
       "version_minor": 0
      },
      "text/plain": [
       "  0%|          | 0/5000 [00:00<?, ?it/s]"
      ]
     },
     "metadata": {},
     "output_type": "display_data"
    },
    {
     "name": "stdout",
     "output_type": "stream",
     "text": [
      "0.965\n"
     ]
    },
    {
     "data": {
      "application/vnd.jupyter.widget-view+json": {
       "model_id": "c84e8fe18d204f559f3857166541161e",
       "version_major": 2,
       "version_minor": 0
      },
      "text/plain": [
       "  0%|          | 0/5000 [00:00<?, ?it/s]"
      ]
     },
     "metadata": {},
     "output_type": "display_data"
    },
    {
     "name": "stderr",
     "output_type": "stream",
     "text": [
      "WARNING: Maximum number of iterations 200000 reached. The mean may be inaccurate\n"
     ]
    },
    {
     "name": "stdout",
     "output_type": "stream",
     "text": [
      "0.9914\n"
     ]
    },
    {
     "data": {
      "application/vnd.jupyter.widget-view+json": {
       "model_id": "582fd2af3d174dafbc826664281b2a6b",
       "version_major": 2,
       "version_minor": 0
      },
      "text/plain": [
       "  0%|          | 0/5000 [00:00<?, ?it/s]"
      ]
     },
     "metadata": {},
     "output_type": "display_data"
    },
    {
     "name": "stdout",
     "output_type": "stream",
     "text": [
      "0.9998\n"
     ]
    }
   ],
   "source": [
    "tau_lst = [0,0.25,0.5,0.75,1,1.5]\n",
    "T_lst = [128,256,512,1024]\n",
    "for a in range(len(tau_lst)):\n",
    "    for b in range(len(T_lst)):\n",
    "        tau = tau_lst[a]\n",
    "        T =T_lst[b]# sample size\n",
    "        m =  8\n",
    "\n",
    "        n = T // m  # 64\n",
    "        repli_s =5000\n",
    "        L = n//2+1\n",
    "        u = (n * np.arange(m) + n / 2) / T\n",
    "        omega = 2 * np.pi * np.arange(1, n + 1) / n\n",
    "        d = 6\n",
    "        sigma=1.5\n",
    "        rho=0.1\n",
    "        z = np.zeros(repli_s)\n",
    "        for kk in tqdm(range(repli_s)):\n",
    "            np.random.seed(kk)\n",
    "            data = generate_ar_ts(bp0,n_samples=T,sigma=sigma,rho=0.15,burn=500,tau=tau)\n",
    "            fmean = FrechetMean(metric=mfd,max_iter=200000,epsilon=1e-10)\n",
    "            fmean.fit(data)\n",
    "            mean =fmean.estimate_\n",
    "            residual=  mfd.log(point=data,base_point=mean) \n",
    "\n",
    "            xx =coord(residual,mean)\n",
    "            #xx = ar(rho=0.01, T=T, d=6)\n",
    "            x = xx - np.mean(xx, axis=0)\n",
    "\n",
    "            D_my = np.zeros((m,L,6),dtype=complex)\n",
    "            for i in range(m):\n",
    "                low = i*n\n",
    "                up = (i+1)*n\n",
    "\n",
    "                D_my[i] =fft.fft(x[low:up],axis=0)[1:(L+1)]#/ np.sqrt(2 * np.pi * n)\n",
    "                #D_my[i] =fft.rfft(x[low:up],axis=0)[0:L]/np.sqrt(2*np.pi*n)\n",
    "            D_my_conj = np.conj(D_my)\n",
    "            D_mynorm = np.mean(np.abs(D_my)**2,axis=2)\n",
    "\n",
    "            #  <D(uj,wk),D(uj,wk-1) >  1<=j<=m, 1<=k<= n/2    <m*(n/2)*d, m*(n/2)*d> ---> m*(n/2)\n",
    "            inner_products = np.mean(D_my_conj[:,0:(L-1),:] * D_my[:, 1:L, :], axis=2)\n",
    "            #inner_products2 = np.sum(D_conj[:,1:L,:] * D[:, 1:L, :], axis=2)\n",
    "            F1hat =  np.sum(np.square(np.abs(inner_products)))/T\n",
    "\n",
    "            V = D_my[:, 1:L, :]  # This has the shape (16, 8, 6) #D(u_j,lambda_k) : j=1,...,m, k =1,...,n/2\n",
    "            V_conj_transpose = np.conj(V)  # This is the complex conjugate \n",
    "\n",
    "            # Prepare the arrays for outer product calculation using broadcasting\n",
    "            # Add a new axis to V for broadcasting to work correctly for the outer product\n",
    "            V = V[:, :, :, np.newaxis]  # This will have the shape (16, 8, 6, 1)\n",
    "            V_conj_transpose = V_conj_transpose[:, :, np.newaxis, :]  # This will have the shape (16, 8, 1, 6)\n",
    "\n",
    "            # Now compute the outer product\n",
    "            Imat = V * V_conj_transpose/d # I(u_j,lambda_k) : j=1,...,m, k =1,...,n/2\n",
    "\n",
    "            Ilambda = np.mean(Imat,axis=0) # mean of I over u (n/2)*(d*d)\n",
    "            Il_sq = np.sum(np.abs(Ilambda)**2,axis=(1,2))#  ||mean of I over u ||_2 : vector in R^m\n",
    "\n",
    "            F2hat= Il_sq.mean()/2\n",
    "            Bhat = np.sum(D_mynorm[:,0:(L-1)]*D_mynorm[:,1:L])/T\n",
    "            mhat = (F1hat-F2hat+Bhat/m)\n",
    "            #mhat = F1_hat-F2_hat\n",
    "            vhat =np.sqrt(np.sum(np.mean(np.abs(inner_products)**2,axis=0)**2)/n)\n",
    "            z[kk] = np.sqrt(T)*mhat/vhat\n",
    "\n",
    "        np.save('zval_sigma_'+str(sigma)+'rho_'+str(rho)+'T_'+str(T)+'m_'+str(m)+'tau_'+str(tau)+'_AR_power.npy',z)\n",
    "        print(np.mean(z>stats.norm.ppf(0.95)))"
   ]
  },
  {
   "cell_type": "code",
   "execution_count": 37,
   "id": "f487f976",
   "metadata": {},
   "outputs": [
    {
     "data": {
      "text/plain": [
       "[(0, 128, 0.1294)]"
      ]
     },
     "execution_count": 37,
     "metadata": {},
     "output_type": "execute_result"
    }
   ],
   "source": [
    "zlst"
   ]
  },
  {
   "cell_type": "code",
   "execution_count": 8,
   "id": "86bb5a36",
   "metadata": {},
   "outputs": [],
   "source": [
    "tau_lst = [0,0.25,0.5,0.75,1,1.5]\n",
    "T_lst = [256,512,1024]\n",
    "m_lst = [8]\n",
    "\n",
    "repli_s =5000\n",
    "\n",
    "sigma=1.5\n",
    "d_intrinsic = 6 # dimension \n",
    "rho=0.1\n",
    "zlst = []\n",
    "for a in range(len(tau_lst)):\n",
    "    for b in range(len(T_lst)):\n",
    "        for c in range(len(m_lst)):\n",
    "            tau = tau_lst[a]\n",
    "            T =T_lst[b]# sample size\n",
    "            m=m_lst[c]\n",
    "            znow = np.load('zval_sigma_'+str(sigma)+'rho_'+str(rho)+'T_'+str(T)+'m_'+str(m)+'tau_'+str(tau)+'_AR_power.npy')\n",
    "            znow=np.mean(znow>stats.norm.ppf(0.95))\n",
    "            zlst.append((tau, T, znow))"
   ]
  },
  {
   "cell_type": "code",
   "execution_count": 9,
   "id": "a393ce0c",
   "metadata": {},
   "outputs": [
    {
     "data": {
      "text/plain": [
       "[(0, 256, 0.0904),\n",
       " (0, 512, 0.071),\n",
       " (0, 1024, 0.0644),\n",
       " (0.25, 256, 0.2644),\n",
       " (0.25, 512, 0.3036),\n",
       " (0.25, 1024, 0.403),\n",
       " (0.5, 256, 0.631),\n",
       " (0.5, 512, 0.7714),\n",
       " (0.5, 1024, 0.917),\n",
       " (0.75, 256, 0.8488),\n",
       " (0.75, 512, 0.9438),\n",
       " (0.75, 1024, 0.9924),\n",
       " (1, 256, 0.9266),\n",
       " (1, 512, 0.9766),\n",
       " (1, 1024, 0.9992),\n",
       " (1.5, 256, 0.965),\n",
       " (1.5, 512, 0.9914),\n",
       " (1.5, 1024, 0.9998)]"
      ]
     },
     "execution_count": 9,
     "metadata": {},
     "output_type": "execute_result"
    }
   ],
   "source": [
    "zlst"
   ]
  },
  {
   "cell_type": "code",
   "execution_count": 35,
   "id": "e66c6de9",
   "metadata": {},
   "outputs": [],
   "source": [
    " #znow = np.load('zval_sigma_'+str(sigma)+'rho_'+str(rho)+'T_'+str(T)+'m_'+str(m)+'tau_'+str(tau)+'_AR_power.npy')"
   ]
  },
  {
   "cell_type": "code",
   "execution_count": 10,
   "id": "f1c61526",
   "metadata": {},
   "outputs": [
    {
     "data": {
      "image/png": "[encoded data removed]",
      "text/plain": [
       "<Figure size 576x432 with 1 Axes>"
      ]
     },
     "metadata": {
      "needs_background": "light"
     },
     "output_type": "display_data"
    }
   ],
   "source": [
    "z_array = np.array(zlst, dtype=[('tau', 'f4'), ('T', 'f4'), ('z', 'f4')])\n",
    "\n",
    "# Creating a DataFrame for seaborn\n",
    "z_df = pd.DataFrame(z_array)\n",
    "palette = sns.color_palette(\"Set2\")  # You can choose other palettes\n",
    "markers = [\"o\", \"s\", \"^\", \"D\", \"x\", \"*\", \"P\"]  # Different marker styles\n",
    "plt.figure(figsize=(8, 6))\n",
    "for i, (T, grp) in enumerate(z_df.groupby('T')):\n",
    "    sns.lineplot(data=grp, x='tau', y='z', label=f'T={int(T)}',\n",
    "                 color=palette[i % len(palette)], marker=markers[i % len(markers)],markersize=15)\n",
    "\n",
    "plt.title('Power curves for second order stationarity test in sphere', fontsize=15)\n",
    "plt.xlabel('tau')\n",
    "plt.ylabel('Power')\n",
    "plt.legend(title='T')\n",
    "plt.tight_layout()\n",
    "plt.savefig('Second_order_sphere.png',facecolor='w')"
   ]
  },
  {
   "cell_type": "code",
   "execution_count": 14,
   "id": "18b28bef",
   "metadata": {},
   "outputs": [
    {
     "data": {
      "text/plain": [
       "array([(0.  ,  128., 0.1294), (0.  ,  256., 0.0904),\n",
       "       (0.  ,  512., 0.071 ), (0.  , 1024., 0.0644),\n",
       "       (0.25,  128., 0.2784), (0.25,  256., 0.2644),\n",
       "       (0.25,  512., 0.3036), (0.25, 1024., 0.403 ),\n",
       "       (0.5 ,  128., 0.5632), (0.5 ,  256., 0.631 ),\n",
       "       (0.5 ,  512., 0.7714), (0.5 , 1024., 0.917 ),\n",
       "       (0.75,  128., 0.7724), (0.75,  256., 0.8488),\n",
       "       (0.75,  512., 0.9438), (0.75, 1024., 0.9924),\n",
       "       (1.  ,  128., 0.891 ), (1.  ,  256., 0.9266),\n",
       "       (1.  ,  512., 0.9766), (1.  , 1024., 0.9992),\n",
       "       (1.5 ,  128., 0.9492), (1.5 ,  256., 0.965 ),\n",
       "       (1.5 ,  512., 0.9914), (1.5 , 1024., 0.9998)],\n",
       "      dtype=[('tau', '<f4'), ('T', '<f4'), ('z', '<f4')])"
      ]
     },
     "execution_count": 14,
     "metadata": {},
     "output_type": "execute_result"
    }
   ],
   "source": [
    "z_array"
   ]
  },
  {
   "cell_type": "code",
   "execution_count": 8,
   "id": "30420646",
   "metadata": {},
   "outputs": [],
   "source": [
    "z_mat = np.zeros((5000,4))\n",
    "T_lst = [64,128,256,512]\n",
    "for l in range(4):\n",
    "    T= T_lst[l]\n",
    "    z_mat[:,l]=np.load('zval_sigma_'+str(1.5)+'rho_'+str(0.15)+'T_'+str(T)+'m_'+str(8)+'_AR_power.npy')\n"
   ]
  },
  {
   "cell_type": "code",
   "execution_count": 9,
   "id": "518f02c2",
   "metadata": {},
   "outputs": [
    {
     "data": {
      "text/plain": [
       "array([0.789 , 0.882 , 0.9264, 0.9756])"
      ]
     },
     "execution_count": 9,
     "metadata": {},
     "output_type": "execute_result"
    }
   ],
   "source": [
    "np.mean(z_mat>=stats.norm.ppf(0.95),axis=0)"
   ]
  }
 ],
 "metadata": {
  "kernelspec": {
   "display_name": "Python 3 (ipykernel)",
   "language": "python",
   "name": "python3"
  },
  "language_info": {
   "codemirror_mode": {
    "name": "ipython",
    "version": 3
   },
   "file_extension": ".py",
   "mimetype": "text/x-python",
   "name": "python",
   "nbconvert_exporter": "python",
   "pygments_lexer": "ipython3",
   "version": "3.9.7"
  }
 },
 "nbformat": 4,
 "nbformat_minor": 5
}
