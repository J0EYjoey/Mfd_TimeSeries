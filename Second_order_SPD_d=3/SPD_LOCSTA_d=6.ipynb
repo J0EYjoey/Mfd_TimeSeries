{
 "cells": [
  {
   "cell_type": "code",
   "execution_count": 1,
   "id": "a7710098",
   "metadata": {
    "scrolled": true
   },
   "outputs": [
    {
     "name": "stderr",
     "output_type": "stream",
     "text": [
      "INFO: Using numpy backend\n"
     ]
    }
   ],
   "source": [
    "import numpy as np\n",
    "import matplotlib.pyplot as plt\n",
    "import seaborn as sns\n",
    "import matplotlib.pyplot as plt\n",
    "\n",
    "import geomstats.backend as gs\n",
    "import geomstats.visualization as visualization\n",
    "\n",
    "\n",
    "from geomstats.learning.frechet_mean import FrechetMean\n",
    "from geomstats.geometry.matrices import Matrices, MatricesMetric\n",
    "\n",
    "from geomstats.geometry.symmetric_matrices import SymmetricMatrices\n",
    "from geomstats.geometry import spd_matrices"
   ]
  },
  {
   "cell_type": "code",
   "execution_count": 2,
   "id": "92c4c01c",
   "metadata": {},
   "outputs": [],
   "source": [
    "from statsmodels.tsa.arima_process import ArmaProcess"
   ]
  },
  {
   "cell_type": "code",
   "execution_count": 3,
   "id": "465fbd2e",
   "metadata": {},
   "outputs": [],
   "source": [
    "import pandas as pd"
   ]
  },
  {
   "cell_type": "code",
   "execution_count": 4,
   "id": "b851138f",
   "metadata": {},
   "outputs": [],
   "source": [
    "#s=1\n",
    "# define the manifold to be d*d spd matrix, d = 3\n",
    "d = 3\n",
    "mfd = spd_matrices.SPDMetricAffine(n=d, power_affine=1)\n",
    "aux= spd_matrices.SPDMatrices(n=d)\n",
    "\n",
    "\n",
    "def generate_sample_tangent_space(base=gs.eye(d), n_samples=1, sigma=1):\n",
    "    # generate i.i.d gaussian noise on tangent space\n",
    "    size = (n_samples, d, d) if n_samples != 1 else (d, d)\n",
    "    tangent_vec_at_id_aux = gs.random.normal(scale=sigma, size=size)\n",
    "    tangent_vec_at_id = 0.5 * (tangent_vec_at_id_aux + Matrices.transpose(\n",
    "        tangent_vec_at_id_aux\n",
    "    ))\n",
    "    # sqrt_base_point = gs.linalg.sqrtm(base_point)\n",
    "    return tangent_vec_at_id\n",
    "\n",
    "\n",
    "def generate_random_sample(base=gs.eye(d), n_samples=1, sigma=1):\n",
    "    # generate sample with Frechet mean equal the given base point.\n",
    "    tv = generate_sample_tangent_space(base=base, n_samples=n_samples, sigma=sigma)\n",
    "    return mfd.exp(tangent_vec=tv, base_point=base)\n",
    "\n",
    "\n",
    "def generate_ar_ts(base=gs.eye(d), n_samples=1, sigma=1, rho=0.5,burn = 500,tau=1):\n",
    "    # generate AR(1)  process X_t -mu = rho(t/n)(X_{t-1}-mu)+epsilon\n",
    "    if n_samples == 1:\n",
    "        return generate_sample_tangent_space(base=base, n_samples=1, sigma=1)\n",
    "    else:\n",
    "        data_tv = np.zeros((n_samples, d, d))\n",
    "        delta = generate_sample_tangent_space(base=base, n_samples=1, sigma=1)\n",
    "        \n",
    "        for j in range(burn):\n",
    "            rhotmp =  rho\n",
    "    \n",
    "            noise =  generate_sample_tangent_space(base=gs.eye(d), n_samples=1, sigma=sigma)\n",
    "            delta = rhotmp*delta+noise\n",
    "            \n",
    "        data_tv[0,:,:] =  delta\n",
    "        \n",
    "        for i in range(1, n_samples):\n",
    "            u =i/n_samples\n",
    "            rhotmp = rho+ tau*(0.2*np.cos(2*u*np.pi)+u*(1-u)) \n",
    "            #rhotmp =  rho\n",
    "            inten = sigma*(0.5 + tau*u**2)\n",
    "            delta = data_tv[i - 1, :, :]\n",
    "            #inten =  sigma*(1+u**2)\n",
    "            noise = generate_sample_tangent_space(base=gs.eye(d), n_samples=1, sigma=inten)\n",
    "            data_tv[i, :, :] = rhotmp * (delta) + noise\n",
    "        data = mfd.exp(tangent_vec=data_tv, base_point=base)\n",
    "        return data\n",
    "\n",
    "\n",
    "def E_comp(mu):\n",
    "    sqrt_mu = gs.linalg.sqrtm(mu)\n",
    "    E = np.zeros((6, 3, 3))\n",
    "    k = 0\n",
    "    for i in range(3):\n",
    "        for j in range(i, 3):\n",
    "            eiej = np.zeros((3, 3))\n",
    "            if (i == j):\n",
    "                eiej[i, i] = 1\n",
    "                # E[k,:,:]=np.dot(sqrt_mu,np.dot(eiej,sqrt_mu))\n",
    "            else:\n",
    "                eiej[i, j] = eiej[j, i] = 1 / np.sqrt(2)\n",
    "\n",
    "            E[k, :, :] = np.dot(sqrt_mu, np.dot(eiej, sqrt_mu))\n",
    "\n",
    "            k = k + 1\n",
    "    return E\n",
    "\n",
    "def coordinate(mu, E, V):\n",
    "    # mu: base point\n",
    "    # E: orthonormal base\n",
    "    # V: tangent vector\n",
    "    v = np.zeros(6)\n",
    "    for k in range(6):\n",
    "        v[k] = mfd.inner_product(V, E[k], mu)\n",
    "    return v\n",
    "\n",
    "def coortomat(mu, E, y):\n",
    "    # mu: base point\n",
    "    # E: orthonormal base\n",
    "    # V: tangent vector\n",
    "    # y = np.zeros(6)\n",
    "    V = np.zeros((3, 3))\n",
    "    for k in range(6):\n",
    "        V = V + y[k] * E[k]\n",
    "    return V\n"
   ]
  },
  {
   "cell_type": "code",
   "execution_count": 5,
   "id": "b0a48a34",
   "metadata": {},
   "outputs": [],
   "source": [
    "def ar(rho, T, d):\n",
    "    ar_process = np.zeros((T, d))\n",
    "    for l in range(d):\n",
    "        ar = ArmaProcess(np.array([1, -rho]), np.array([1]))\n",
    "        ar_process[:, l] = ar.generate_sample(nsample=T)\n",
    "    return ar_process"
   ]
  },
  {
   "cell_type": "code",
   "execution_count": 26,
   "id": "e4d0ec09",
   "metadata": {},
   "outputs": [],
   "source": [
    "\n",
    "## test case\n",
    "# bp = gs.eye(d)\n",
    "# data = generate_ar_ts(base=bp,n_samples=1000, sigma=1, rho=0.5,burn = 500)\n",
    "# fmean = FrechetMean(metric=mfd,max_iter=200000,epsilon=1e-10)\n",
    "# fmean.fit(data)\n",
    "# mean =fmean.estimate_\n",
    "#residual =  mfd.log(point=data,base_point=mean) "
   ]
  },
  {
   "cell_type": "code",
   "execution_count": 4,
   "id": "95daf863",
   "metadata": {},
   "outputs": [],
   "source": [
    "import numpy.fft as fft\n",
    "import scipy.stats as stats"
   ]
  },
  {
   "cell_type": "code",
   "execution_count": 10,
   "id": "f6f46e4e",
   "metadata": {},
   "outputs": [],
   "source": [
    "from tqdm import tqdm_notebook as tqdm"
   ]
  },
  {
   "cell_type": "code",
   "execution_count": 11,
   "id": "467d986f",
   "metadata": {},
   "outputs": [
    {
     "name": "stderr",
     "output_type": "stream",
     "text": [
      "/var/folders/xl/kgnxbxpd1tl1dxlkp0qvtb180000gn/T/ipykernel_64302/4033162078.py:21: TqdmDeprecationWarning: This function will be removed in tqdm==5.0.0\n",
      "Please use `tqdm.notebook.tqdm` instead of `tqdm.tqdm_notebook`\n",
      "  for kk in tqdm(range(repli_s)):\n"
     ]
    },
    {
     "data": {
      "application/vnd.jupyter.widget-view+json": {
       "model_id": "62d2851197ce4a229ef97267f36d642a",
       "version_major": 2,
       "version_minor": 0
      },
      "text/plain": [
       "  0%|          | 0/5000 [00:00<?, ?it/s]"
      ]
     },
     "metadata": {},
     "output_type": "display_data"
    },
    {
     "name": "stdout",
     "output_type": "stream",
     "text": [
      "0.9248\n"
     ]
    },
    {
     "data": {
      "application/vnd.jupyter.widget-view+json": {
       "model_id": "e5eaeed0fc334d878a6379b758f53c8b",
       "version_major": 2,
       "version_minor": 0
      },
      "text/plain": [
       "  0%|          | 0/5000 [00:00<?, ?it/s]"
      ]
     },
     "metadata": {},
     "output_type": "display_data"
    },
    {
     "name": "stdout",
     "output_type": "stream",
     "text": [
      "0.9482\n"
     ]
    },
    {
     "data": {
      "application/vnd.jupyter.widget-view+json": {
       "model_id": "b73c68b4b3714ba09cbd46e41508d830",
       "version_major": 2,
       "version_minor": 0
      },
      "text/plain": [
       "  0%|          | 0/5000 [00:00<?, ?it/s]"
      ]
     },
     "metadata": {},
     "output_type": "display_data"
    },
    {
     "name": "stdout",
     "output_type": "stream",
     "text": [
      "0.9886\n"
     ]
    },
    {
     "data": {
      "application/vnd.jupyter.widget-view+json": {
       "model_id": "fc898069072c420f824dbfdbc3286912",
       "version_major": 2,
       "version_minor": 0
      },
      "text/plain": [
       "  0%|          | 0/5000 [00:00<?, ?it/s]"
      ]
     },
     "metadata": {},
     "output_type": "display_data"
    },
    {
     "name": "stdout",
     "output_type": "stream",
     "text": [
      "0.9992\n"
     ]
    }
   ],
   "source": [
    "tau_lst = [2]\n",
    "T_lst = [128,256,512,1024]\n",
    "#T_lst = [2048]   \n",
    "\n",
    "for a in range(len(tau_lst)):\n",
    "    for b in range(len(T_lst)):\n",
    "        tau = tau_lst[a]\n",
    "        T =T_lst[b]# sample size\n",
    "       \n",
    "        m =  8\n",
    "        bp = gs.eye(d)\n",
    "        n = T // m  # 64\n",
    "        repli_s =5000\n",
    "        L = n//2+1\n",
    "        u = (n * np.arange(m) + n / 2) / T\n",
    "        omega = 2 * np.pi * np.arange(1, n + 1) / n\n",
    "        sigma=1\n",
    "        d_intrinsic = 6 # dimension \n",
    "        rho=0.1\n",
    "        z = np.zeros(repli_s)\n",
    "        for kk in tqdm(range(repli_s)):\n",
    "            np.random.seed(kk)\n",
    "            data = generate_ar_ts(bp,n_samples=T,sigma=sigma,rho=rho,burn=500,tau=tau)\n",
    "            fmean = FrechetMean(metric=mfd,max_iter=200000,epsilon=1e-10)\n",
    "            \n",
    "            \n",
    "            fmean.fit(data)\n",
    "            mean =fmean.estimate_\n",
    "            residual=  mfd.log(point=data,base_point=bp) \n",
    "            E = E_comp(bp)\n",
    "\n",
    "\n",
    "            xx = np.zeros((T,6))\n",
    "            for i in range(T):\n",
    "                xx[i]  = coordinate(bp, E, residual[i])\n",
    "            #xx = ar(rho=0.01, T=T, d=6)\n",
    "            x = xx - np.mean(xx, axis=0)\n",
    "\n",
    "            D_my = np.zeros((m,L,6),dtype=complex)\n",
    "            for i in range(m):\n",
    "                low = i*n\n",
    "                up = (i+1)*n\n",
    "\n",
    "                D_my[i] =fft.fft(x[low:up],axis=0)[0:L]#/ np.sqrt(2 * np.pi * n)\n",
    "                #D_my[i] =fft.rfft(x[low:up],axis=0)[0:L]/np.sqrt(2*np.pi*n)\n",
    "            D_my_conj = np.conj(D_my)\n",
    "            D_mynorm = np.mean(np.abs(D_my)**2,axis=2)\n",
    "\n",
    "            #  <D(uj,wk),D(uj,wk-1) >  1<=j<=m, 1<=k<= n/2    <m*(n/2)*d, m*(n/2)*d> ---> m*(n/2)\n",
    "            inner_products = np.mean(D_my_conj[:,0:(L-1),:] * D_my[:, 1:L, :], axis=2)\n",
    "            #inner_products2 = np.sum(D_conj[:,1:L,:] * D[:, 1:L, :], axis=2)\n",
    "            F1hat =  np.sum(np.square(np.abs(inner_products)))/T\n",
    "\n",
    "            V = D_my[:, 1:L, :]  # This has the shape (16, 8, 6) #D(u_j,lambda_k) : j=1,...,m, k =1,...,n/2\n",
    "            V_conj_transpose = np.conj(V)  # This is the complex conjugate \n",
    "\n",
    "            # Prepare the arrays for outer product calculation using broadcasting\n",
    "            # Add a new axis to V for broadcasting to work correctly for the outer product\n",
    "            V = V[:, :, :, np.newaxis]  # This will have the shape (16, 8, 6, 1)\n",
    "            V_conj_transpose = V_conj_transpose[:, :, np.newaxis, :]  # This will have the shape (16, 8, 1, 6)\n",
    "\n",
    "            # Now compute the outer product\n",
    "            Imat = V * V_conj_transpose/d_intrinsic # I(u_j,lambda_k) : j=1,...,m, k =1,...,n/2\n",
    "\n",
    "            Ilambda = np.mean(Imat,axis=0) # mean of I over u (n/2)*(d*d)\n",
    "            Il_sq = np.sum(np.abs(Ilambda)**2,axis=(1,2))#  ||mean of I over u ||_2 : vector in R^m\n",
    "\n",
    "            F2hat= Il_sq.mean()/2\n",
    "            Bhat = np.sum(D_mynorm[:,0:(L-1)]*D_mynorm[:,1:L])/T\n",
    "            mhat = (F1hat-F2hat+Bhat/m)\n",
    "            #mhat = F1_hat-F2_hat\n",
    "            vhat =np.sqrt(np.sum(np.mean(np.abs(inner_products)**2,axis=0)**2)/n)\n",
    "            z[kk] = np.sqrt(T)*mhat/vhat\n",
    "\n",
    "        np.save('zval_sigma_'+str(sigma)+'rho_'+str(rho)+'T_'+str(T)+'m_'+str(m)+'tau_'+str(tau)+'_AR_power.npy',z)\n",
    "        print(np.mean(z>stats.norm.ppf(0.95)))"
   ]
  },
  {
   "cell_type": "code",
   "execution_count": 5,
   "id": "682f4774",
   "metadata": {},
   "outputs": [],
   "source": [
    "tau_lst = [0,0.25,0.5,0.75,1,1.5]\n",
    "T_lst = [256,512,1024]\n",
    "m=8 \n",
    "#n = T // m  # 64\n",
    "repli_s =5000\n",
    "#L = n//2+1\n",
    "#u = (n * np.arange(m) + n / 2) / T\n",
    "#omega = 2 * np.pi * np.arange(1, n + 1) / n\n",
    "sigma=0.75\n",
    "d_intrinsic = 6 # dimension \n",
    "rho=0.1\n",
    "zlst = []\n",
    "for a in range(len(tau_lst)):\n",
    "    for b in range(len(T_lst)):\n",
    "        tau = tau_lst[a]\n",
    "        T =T_lst[b]# sample size\n",
    "        znow = np.load('zval_sigma_'+str(sigma)+'rho_'+str(rho)+'T_'+str(T)+'m_'+str(m)+'tau_'+str(tau)+'_AR_power.npy')\n",
    "        znow=np.mean(znow>stats.norm.ppf(0.95))\n",
    "        zlst.append((tau, T, znow))"
   ]
  },
  {
   "cell_type": "code",
   "execution_count": 11,
   "id": "5a1a2143",
   "metadata": {},
   "outputs": [
    {
     "data": {
      "text/plain": [
       "[(0, 256, 0.085),\n",
       " (0, 512, 0.0728),\n",
       " (0, 1024, 0.07),\n",
       " (0.25, 256, 0.2488),\n",
       " (0.25, 512, 0.3026),\n",
       " (0.25, 1024, 0.4106),\n",
       " (0.5, 256, 0.6114),\n",
       " (0.5, 512, 0.7672),\n",
       " (0.5, 1024, 0.9306),\n",
       " (0.75, 256, 0.8236),\n",
       " (0.75, 512, 0.9474),\n",
       " (0.75, 1024, 0.9952),\n",
       " (1, 256, 0.9056),\n",
       " (1, 512, 0.9822),\n",
       " (1, 1024, 0.9992)]"
      ]
     },
     "execution_count": 11,
     "metadata": {},
     "output_type": "execute_result"
    }
   ],
   "source": [
    "zlst"
   ]
  },
  {
   "cell_type": "code",
   "execution_count": 10,
   "id": "4db4acd2",
   "metadata": {},
   "outputs": [
    {
     "data": {
      "image/png": "[encoded data removed]",
      "text/plain": [
       "<Figure size 576x432 with 1 Axes>"
      ]
     },
     "metadata": {
      "needs_background": "light"
     },
     "output_type": "display_data"
    }
   ],
   "source": [
    "z_array = np.array(zlst, dtype=[('tau', 'f4'), ('T', 'f4'), ('z', 'f4')])\n",
    "\n",
    "# Creating a DataFrame for seaborn\n",
    "z_df = pd.DataFrame(z_array)\n",
    "palette = sns.color_palette(\"Set2\")  # You can choose other palettes\n",
    "markers = [\"o\", \"s\", \"^\", \"D\", \"x\", \"*\", \"P\"]  # Different marker styles\n",
    "plt.figure(figsize=(8, 6))\n",
    "for i, (T, grp) in enumerate(z_df.groupby('T')):\n",
    "    sns.lineplot(data=grp, x='tau', y='z', label=f'T={int(T)}',\n",
    "                 color=palette[i % len(palette)], marker=markers[i % len(markers)],markersize=15)\n",
    "\n",
    "#plt.title('Power curves for second order stationarity test in SPD matrices', fontsize=15)\n",
    "plt.xlabel('tau',size=16)\n",
    "plt.ylabel('Power',size=16)\n",
    "plt.legend(title='T')\n",
    "plt.tight_layout()\n",
    "plt.tick_params(axis='both', which='major', labelsize=16) \n",
    "plt.savefig('Second_order_spd.png',facecolor='w')\n",
    "# # Plot using seaborn\n",
    "# plt.figure(figsize=(10, 6))\n",
    "# sns.lineplot(data=z_df, x='T', y='z', hue='tau', marker='o')\n",
    "# plt.title('Z values over T for different tau')\n",
    "# plt.xlabel('T')\n",
    "# plt.ylabel('Z value')\n",
    "# plt.legend(title='tau')\n",
    "# plt.show()"
   ]
  },
  {
   "cell_type": "code",
   "execution_count": 16,
   "id": "2d536f97",
   "metadata": {},
   "outputs": [
    {
     "data": {
      "text/plain": [
       "array([(0.  ,  256., 0.085 ), (0.  ,  512., 0.0728),\n",
       "       (0.  , 1024., 0.07  ), (0.25,  256., 0.2488),\n",
       "       (0.25,  512., 0.3026), (0.25, 1024., 0.4106),\n",
       "       (0.5 ,  256., 0.6114), (0.5 ,  512., 0.7672),\n",
       "       (0.5 , 1024., 0.9306), (0.75,  256., 0.8236),\n",
       "       (0.75,  512., 0.9474), (0.75, 1024., 0.9952),\n",
       "       (1.  ,  256., 0.9056), (1.  ,  512., 0.9822),\n",
       "       (1.  , 1024., 0.9992), (1.5 ,  256., 0.9472),\n",
       "       (1.5 ,  512., 0.9922), (1.5 , 1024., 0.9996)],\n",
       "      dtype=[('tau', '<f4'), ('T', '<f4'), ('z', '<f4')])"
      ]
     },
     "execution_count": 16,
     "metadata": {},
     "output_type": "execute_result"
    }
   ],
   "source": [
    "z_array"
   ]
  },
  {
   "cell_type": "code",
   "execution_count": 110,
   "id": "f3b7a36a",
   "metadata": {},
   "outputs": [
    {
     "data": {
      "text/plain": [
       "0.8244"
      ]
     },
     "execution_count": 110,
     "metadata": {},
     "output_type": "execute_result"
    }
   ],
   "source": [
    "np.mean(z>stats.norm.ppf(0.95)) #T= 64:0.8094"
   ]
  },
  {
   "cell_type": "code",
   "execution_count": 98,
   "id": "326e267f",
   "metadata": {},
   "outputs": [
    {
     "data": {
      "text/plain": [
       "0.8244"
      ]
     },
     "execution_count": 98,
     "metadata": {},
     "output_type": "execute_result"
    }
   ],
   "source": [
    "np.mean(z>stats.norm.ppf(0.95)) # T=128"
   ]
  },
  {
   "cell_type": "code",
   "execution_count": 90,
   "id": "55dac003",
   "metadata": {},
   "outputs": [],
   "source": [
    "z0=np.load('zval_sigma_'+str(1)+'rho_'+str(0.15)+'T_'+str(1024)+'m_'+str(8)+'_AR_power.npy')"
   ]
  },
  {
   "cell_type": "code",
   "execution_count": 88,
   "id": "a8dbb24d",
   "metadata": {},
   "outputs": [
    {
     "data": {
      "text/plain": [
       "array([[ 1.07618912,  0.24869318,  0.13267895],\n",
       "       [ 0.24869318,  1.06603276, -0.10699586],\n",
       "       [ 0.13267895, -0.10699586,  1.15287863]])"
      ]
     },
     "execution_count": 88,
     "metadata": {},
     "output_type": "execute_result"
    }
   ],
   "source": [
    "mean"
   ]
  },
  {
   "cell_type": "code",
   "execution_count": 86,
   "id": "f9bd6803",
   "metadata": {},
   "outputs": [],
   "source": [
    "z_mat = np.zeros((5000,4))\n",
    "T_lst = [64,128,256,512]\n",
    "for l in range(4):\n",
    "    T= T_lst[l]\n",
    "    z_mat[:,l]=np.load('zval_sigma_'+str(1)+'rho_'+str(0.15)+'T_'+str(T)+'m_'+str(8)+'_AR_power.npy')"
   ]
  },
  {
   "cell_type": "code",
   "execution_count": 96,
   "id": "f60aabad",
   "metadata": {},
   "outputs": [
    {
     "data": {
      "text/plain": [
       "(array([0.7008, 0.6616, 0.689 , 0.7968]),)"
      ]
     },
     "execution_count": 96,
     "metadata": {},
     "output_type": "execute_result"
    }
   ],
   "source": [
    "np.mean(z_mat>=stats.norm.ppf(0.95),axis=0),"
   ]
  }
 ],
 "metadata": {
  "kernelspec": {
   "display_name": "Python 3 (ipykernel)",
   "language": "python",
   "name": "python3"
  },
  "language_info": {
   "codemirror_mode": {
    "name": "ipython",
    "version": 3
   },
   "file_extension": ".py",
   "mimetype": "text/x-python",
   "name": "python",
   "nbconvert_exporter": "python",
   "pygments_lexer": "ipython3",
   "version": "3.9.7"
  }
 },
 "nbformat": 4,
 "nbformat_minor": 5
}
