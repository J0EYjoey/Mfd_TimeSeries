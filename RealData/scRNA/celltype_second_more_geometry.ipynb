{
 "cells": [
  {
   "cell_type": "code",
   "execution_count": 1,
   "id": "7872209b",
   "metadata": {},
   "outputs": [
    {
     "name": "stderr",
     "output_type": "stream",
     "text": [
      "/Users/junhaozhu/opt/anaconda3/lib/python3.9/site-packages/pandas/core/computation/expressions.py:21: UserWarning: Pandas requires version '2.8.4' or newer of 'numexpr' (version '2.8.3' currently installed).\n",
      "  from pandas.core.computation.check import NUMEXPR_INSTALLED\n",
      "/Users/junhaozhu/opt/anaconda3/lib/python3.9/site-packages/pandas/core/arrays/masked.py:60: UserWarning: Pandas requires version '1.3.6' or newer of 'bottleneck' (version '1.3.5' currently installed).\n",
      "  from pandas.core import (\n",
      "INFO: Using numpy backend\n"
     ]
    }
   ],
   "source": [
    "import numpy as np \n",
    "\n",
    "import matplotlib.pyplot as plt\n",
    "import seaborn as sns\n",
    "\n",
    "\n",
    "import geomstats.backend as gs\n",
    "import geomstats.visualization as visualization\n",
    "\n",
    "\n",
    "from geomstats.learning.frechet_mean import FrechetMean\n",
    "from geomstats.geometry.matrices import Matrices, MatricesMetric\n",
    "\n",
    "from geomstats.geometry.symmetric_matrices import SymmetricMatrices\n",
    "from geomstats.geometry import spd_matrices\n",
    "\n",
    "from geomstats.geometry.hypersphere import Hypersphere\n",
    "\n",
    "d=6\n",
    "sphere = Hypersphere(dim=d) \n",
    "mfd= sphere.metric\n"
   ]
  },
  {
   "cell_type": "code",
   "execution_count": 22,
   "id": "193de676",
   "metadata": {},
   "outputs": [],
   "source": [
    "import pandas as pd\n",
    "import scipy.fft as fft\n",
    "import scipy.stats as stats"
   ]
  },
  {
   "cell_type": "code",
   "execution_count": 3,
   "id": "a75a86b6",
   "metadata": {},
   "outputs": [],
   "source": [
    "time_names = pd.read_csv('/Users/junhaozhu/Code/Manifold_TS/RealData/CellType/time_names.csv', index_col=0)\n",
    "time_names = time_names['time'].to_numpy()\n",
    "\n",
    "time_names = time_names[time_names != 'D8.25']\n",
    "time_names = time_names[time_names != 'D8.75']\n",
    "\n",
    "# df = pd.read_csv(r'..\\wot\\data\\full_df.csv')\n",
    "df = pd.read_csv('/Users/junhaozhu/Code/Manifold_TS/RealData/CellType/ot_df.csv')\n",
    "df = df[df['day'] != 8.25]\n",
    "df = df[df['day'] != 8.75]\n",
    "time_labels = [float(i[1:]) for i in time_names]\n",
    "sample_size = pd.DataFrame()\n",
    "sample_size['day'] = time_labels\n",
    "sample_size['sample size'] = df.groupby('day').size().to_numpy()\n",
    "T = len(time_labels)\n",
    "k = len(np.unique(df['cell type']))\n",
    "\n",
    "type_list = df['cell type'].unique()\n",
    "probs = []\n",
    "for t in range(T):\n",
    "    p_temp = df['cell type'][df['day'] == time_labels[t]].value_counts(normalize=True).reindex(type_list, fill_value=0).to_numpy()\n",
    "    probs.append(p_temp)\n",
    "probs = np.array(probs)"
   ]
  },
  {
   "cell_type": "code",
   "execution_count": 4,
   "id": "eaf8e8a3",
   "metadata": {},
   "outputs": [],
   "source": [
    "data=np.sqrt(probs)\n",
    "data_df = pd.DataFrame(data=data**2,index= np.arange(37),columns=type_list.tolist())"
   ]
  },
  {
   "cell_type": "code",
   "execution_count": 146,
   "id": "9008619e",
   "metadata": {},
   "outputs": [],
   "source": [
    "def calc_theta_r(alpha_r):\n",
    "    ### return the theta_r in Algorithm 1 , line 6 \n",
    "    theta = alpha_r/(1+alpha_r)\n",
    "    return theta\n",
    "\n",
    "def calc_inter(theta_r, p,q):\n",
    "    ### return the theta_r in Algorithm 1 , line 7\n",
    "    gd = mfd.geodesic(p,q)\n",
    "    return gd(theta_r)\n",
    "\n",
    "def cyclic_proximal_point_algorithm(data, alpha, lambd,max_itr = 1000):\n",
    "    \"\"\"\n",
    "    Implements the cyclic proximal point algorithm for p-TVq for manifold data.\n",
    "    \n",
    "    :param f: Manifold-valued image, numpy array of shape (n, m)\n",
    "    :param α: Regularization parameter\n",
    "    :param λ: Sequence for proximal mappings\n",
    "    :param n: Number of rows in the image\n",
    "    :param m: Number of columns in the image\n",
    "    :return: Minimizer x of the p-TVq problem\n",
    "    \"\"\"\n",
    "    Y = np.copy(data)\n",
    "    n = Y.shape[0]\n",
    "    mu = np.copy(Y)\n",
    "    for r in range(max_itr):\n",
    "        alpha_r = alpha/(r+2)\n",
    "        for i in range(n-1):\n",
    "            theta = calc_theta_r(alpha_r)\n",
    "            mu_i_new  = calc_inter(theta, mu[i],Y[i])\n",
    "            mu[i] = mu_i_new\n",
    "        \n",
    "        for j in range(n-1):\n",
    "            theta = 0.5* min(lambd*n*alpha_r/mfd.dist(mu[j],mu[j+1]),1)\n",
    "            mu_j_new = calc_inter(theta, mu[j],mu[j+1])\n",
    "            mu_j1_new = calc_inter(theta, mu[j+1],mu[j])\n",
    "            mu[j] =  mu_j_new\n",
    "            mu[j+1] =mu_j1_new\n",
    "       \n",
    "        \n",
    "\n",
    "    return mu\n",
    "\n",
    "# Example usage\n",
    "\n",
    "def calc_theta_r_eu(alpha_r):\n",
    "    ### return the theta_r in Algorithm 1 , line 6 \n",
    "    theta = alpha_r/(1+alpha_r)\n",
    "    return theta\n",
    "\n",
    "def calc_inter_eu(theta_r, p,q):\n",
    "    ### return the theta_r in Algorithm 1 , line 7\n",
    "    \n",
    "    return p+(theta_r)*(q-p)\n",
    "\n",
    "def cyclic_proximal_point_algorithm_eu(data, alpha, lambd,max_itr = 1000):\n",
    "    \"\"\"\n",
    "    Implements the cyclic proximal point algorithm for p-TVq for manifold data.\n",
    "    \n",
    "    :param f: Manifold-valued image, numpy array of shape (n, m)\n",
    "    :param α: Regularization parameter\n",
    "    :param λ: Sequence for proximal mappings\n",
    "    :param n: Number of rows in the image\n",
    "    :param m: Number of columns in the image\n",
    "    :return: Minimizer x of the p-TVq problem\n",
    "    \"\"\"\n",
    "    Y = np.copy(data)\n",
    "    n = Y.shape[0]\n",
    "    mu = np.copy(Y)\n",
    "    for r in range(max_itr):\n",
    "        alpha_r = alpha/(r+2)\n",
    "        for i in range(n-1):\n",
    "            theta = calc_theta_r_eu(alpha_r)\n",
    "            mu_i_new  = calc_inter_eu(theta, mu[i],Y[i])\n",
    "            mu[i] = mu_i_new\n",
    "        \n",
    "        for j in range(n-1):\n",
    "            Dj = np.sqrt(np.sum((mu[j]-mu[j+1])**2))\n",
    "            theta = 0.5* min(lambd*n*alpha_r/Dj,1)\n",
    "            mu_j_new = calc_inter_eu(theta, mu[j],mu[j+1])\n",
    "            mu_j1_new = calc_inter_eu(theta, mu[j+1],mu[j])\n",
    "            mu[j] =  mu_j_new\n",
    "            mu[j+1] =mu_j1_new\n",
    "       \n",
    "        \n",
    "\n",
    "    return mu\n",
    "\n",
    "\n"
   ]
  },
  {
   "cell_type": "code",
   "execution_count": 42,
   "id": "162ac96b",
   "metadata": {},
   "outputs": [],
   "source": [
    "# lambd = 0.2\n",
    "# alpha=0.05\n",
    "\n",
    "\n",
    "\n",
    "# muhat = cyclic_proximal_point_algorithm(data=data, alpha=alpha, lambd=lambd,max_itr = 1000)"
   ]
  },
  {
   "cell_type": "code",
   "execution_count": 43,
   "id": "64cc49a3",
   "metadata": {},
   "outputs": [
    {
     "data": {
      "text/plain": [
       "[]"
      ]
     },
     "execution_count": 43,
     "metadata": {},
     "output_type": "execute_result"
    },
    {
     "data": {
      "image/png": "[encoded data removed]",
      "text/plain": [
       "<Figure size 720x432 with 2 Axes>"
      ]
     },
     "metadata": {
      "needs_background": "light"
     },
     "output_type": "display_data"
    }
   ],
   "source": [
    "# fig, ax = plt.subplots(figsize=(10,6))\n",
    "# sns.heatmap(data_df,cmap=sns.cubehelix_palette(as_cmap=True),ax=ax)\n",
    "# ax.set(xlabel=\"Cell Type\", ylabel=\"Time Point\")\n",
    "# #ax.xaxis.tick_top()\n",
    "\n",
    "# ax.set_xticklabels(labels=type_list.tolist(),fontsize=15,rotation=25)\n",
    "# plt.plot()"
   ]
  },
  {
   "cell_type": "code",
   "execution_count": 70,
   "id": "4d8405a8",
   "metadata": {},
   "outputs": [
    {
     "data": {
      "text/plain": [
       "[]"
      ]
     },
     "execution_count": 70,
     "metadata": {},
     "output_type": "execute_result"
    },
    {
     "data": {
      "image/png": "[encoded data removed]",
      "text/plain": [
       "<Figure size 720x432 with 2 Axes>"
      ]
     },
     "metadata": {
      "needs_background": "light"
     },
     "output_type": "display_data"
    }
   ],
   "source": [
    "# mudf = pd.DataFrame(data=best_muhat**2,index= np.arange(37),columns=type_list.tolist())\n",
    "# fig, ax = plt.subplots(figsize=(10,6))\n",
    "# sns.heatmap(mudf,cmap=sns.cubehelix_palette(as_cmap=True),ax=ax)\n",
    "# ax.set(xlabel=\"Cell Type\", ylabel=\"Time Point\")\n",
    "# #ax.xaxis.tick_top()\n",
    "# ax.set_xticklabels(labels=type_list.tolist(),fontsize=15,rotation=25)\n",
    "# plt.plot()"
   ]
  },
  {
   "cell_type": "code",
   "execution_count": 60,
   "id": "e10a9c8e",
   "metadata": {},
   "outputs": [],
   "source": [
    "# lambd_lst =[0.01,0.05,0.1,0.2,0.5,1]\n",
    "# cv_err = np.zeros(len(lambd_lst))\n",
    "# for l in range(len(lambd_lst)):\n",
    "#     lambd = lambd_lst[l]\n",
    "#     for s in range(1,(T-1)):\n",
    "#         alpha = 0.05\n",
    "#         data_del = np.delete(data, s, 0)\n",
    "#         muhat = cyclic_proximal_point_algorithm(data=data_del, alpha=alpha, lambd=lambd,max_itr = 4000)\n",
    "#         mu_s = calc_inter(0.5, muhat[s-1],muhat[s])\n",
    "        \n",
    "#         cv_err[l] =  cv_err[l]+mfd.dist(mu_s, data[s])**2"
   ]
  },
  {
   "cell_type": "code",
   "execution_count": 63,
   "id": "a4ca5076",
   "metadata": {},
   "outputs": [],
   "source": [
    "#np.save('ev_err.npy',cv_err)\n",
    "# min_cverr at 0.01"
   ]
  },
  {
   "cell_type": "code",
   "execution_count": 6,
   "id": "b3defd58",
   "metadata": {},
   "outputs": [],
   "source": [
    "#best_muhat  =  cyclic_proximal_point_algorithm(data=data, alpha=alpha, lambd=0.01,max_itr = 4000)\n",
    "best_muhat  =  np.load(\"best_mu.npy\")"
   ]
  },
  {
   "cell_type": "code",
   "execution_count": 7,
   "id": "617bb192",
   "metadata": {},
   "outputs": [],
   "source": [
    "residual =  mfd.log(point=data,base_point=best_muhat) "
   ]
  },
  {
   "cell_type": "code",
   "execution_count": 8,
   "id": "4b44c486",
   "metadata": {},
   "outputs": [],
   "source": [
    "xx=np.zeros((T,7))\n",
    "xx[0] =residual[0]\n",
    "for k in range(1,T):\n",
    "    tmp = residual[k]\n",
    "    now = k\n",
    "    for j in range(k):\n",
    "        tmp = mfd.parallel_transport(tmp,best_muhat[now], end_point=best_muhat[now-1])\n",
    "        now=now-1\n",
    "    xx[k] = tmp"
   ]
  },
  {
   "cell_type": "code",
   "execution_count": 9,
   "id": "679475b2",
   "metadata": {},
   "outputs": [],
   "source": [
    "x= xx- np.mean(xx,axis=0)"
   ]
  },
  {
   "cell_type": "code",
   "execution_count": 10,
   "id": "18a59550",
   "metadata": {},
   "outputs": [],
   "source": [
    "def Proj(x):\n",
    "    d = x.shape[0]\n",
    "    y = np.reshape(x,(d,1))\n",
    "    return(np.eye(d)-np.dot(y,y.T))\n",
    "\n",
    "def OR(x):\n",
    "    #return or basis for T_x S\n",
    "    P = Proj(x)\n",
    "    l,u= np.linalg.eig(P)\n",
    "    idx = l>0.001\n",
    "    #np.linalg.eig(P)\n",
    "    return u[:,idx]\n",
    "\n",
    "def coord(residual,x):\n",
    "    E = OR(x)\n",
    "    Y = np.dot(residual,E)\n",
    "    return(Y)\n"
   ]
  },
  {
   "cell_type": "code",
   "execution_count": null,
   "id": "562c5b2f",
   "metadata": {},
   "outputs": [],
   "source": [
    "#0-7,7-14,14-21,21-28,29-36"
   ]
  },
  {
   "cell_type": "code",
   "execution_count": 11,
   "id": "c9a3f14b",
   "metadata": {},
   "outputs": [
    {
     "name": "stdout",
     "output_type": "stream",
     "text": [
      "0,8\n",
      "7,15\n",
      "14,22\n",
      "21,29\n"
     ]
    }
   ],
   "source": [
    "#0-7,7-14,14-21,21-28,29-36\n",
    "x=np.zeros((40,6))\n",
    "m = 5\n",
    "for i in range(4) :\n",
    "    start=8*i\n",
    "    end=8*i+8\n",
    "    print(str(7*i)+','+str(7*i+8))\n",
    "    x[start:end,:]=coord(xx[7*i:(7*i+8),:],best_muhat[0])\n",
    "    \n",
    "x[32:] = coord(xx[29:,],best_muhat[0])"
   ]
  },
  {
   "cell_type": "code",
   "execution_count": 12,
   "id": "4e22dd85",
   "metadata": {},
   "outputs": [],
   "source": [
    "x=x-np.mean(x,axis=0)"
   ]
  },
  {
   "cell_type": "code",
   "execution_count": 111,
   "id": "6d28f140",
   "metadata": {},
   "outputs": [],
   "source": [
    "m=5\n",
    "n=8\n",
    "L=n//2+1\n",
    "D_my = np.zeros((m,L,6),dtype=complex)\n",
    "for i in range(m):\n",
    "    low = i*n\n",
    "    up = (i+1)*n\n",
    "\n",
    "    D_my[i] =fft.fft(x[low:up],axis=0)[1:(L+1)]#/ np.sqrt(2 * np.pi * n)\n",
    "    #D_my[i] =fft.rfft(x[low:up],axis=0)[0:L]/np.sqrt(2*np.pi*n)\n",
    "D_my_conj = np.conj(D_my)\n",
    "D_mynorm = np.mean(np.abs(D_my)**2,axis=2)\n",
    "\n",
    "#  <D(uj,wk),D(uj,wk-1) >  1<=j<=m, 1<=k<= n/2    <m*(n/2)*d, m*(n/2)*d> ---> m*(n/2)\n",
    "inner_products = np.mean(D_my_conj[:,0:(L-1),:] * D_my[:, 1:L, :], axis=2)\n",
    "#inner_products2 = np.sum(D_conj[:,1:L,:] * D[:, 1:L, :], axis=2)\n",
    "F1hat =  np.sum(np.square(np.abs(inner_products)))/T\n",
    "\n",
    "V = D_my[:, 1:L, :]  # This has the shape (16, 8, 6) #D(u_j,lambda_k) : j=1,...,m, k =1,...,n/2\n",
    "V_conj_transpose = np.conj(V)  # This is the complex conjugate \n",
    "\n",
    "# Prepare the arrays for outer product calculation using broadcasting\n",
    "# Add a new axis to V for broadcasting to work correctly for the outer product\n",
    "V = V[:, :, :, np.newaxis]  # This will have the shape (16, 8, 6, 1)\n",
    "V_conj_transpose = V_conj_transpose[:, :, np.newaxis, :]  # This will have the shape (16, 8, 1, 6)\n",
    "\n",
    "# Now compute the outer product\n",
    "Imat = V * V_conj_transpose/6 # I(u_j,lambda_k) : j=1,...,m, k =1,...,n/2\n",
    "\n",
    "Ilambda = np.mean(Imat,axis=0) # mean of I over u (n/2)*(d*d)\n",
    "Il_sq = np.sum(np.abs(Ilambda)**2,axis=(1,2))#  ||mean of I over u ||_2 : vector in R^m\n",
    "\n",
    "F2hat= Il_sq.mean()/2\n",
    "Bhat = np.sum(D_mynorm[:,0:(L-1)]*D_mynorm[:,1:L])/T\n",
    "mhat = (F1hat-F2hat+Bhat/m)\n",
    "#mhat = F1_hat-F2_hat\n",
    "vhat =np.sqrt(np.sum(np.mean(np.abs(inner_products)**2,axis=0)**2)/n)\n",
    "z = np.sqrt(T)*mhat/vhat"
   ]
  },
  {
   "cell_type": "code",
   "execution_count": 119,
   "id": "fedf99c9",
   "metadata": {},
   "outputs": [],
   "source": [
    "pval = stats.norm.cdf(z)"
   ]
  },
  {
   "cell_type": "code",
   "execution_count": 121,
   "id": "bad86605",
   "metadata": {},
   "outputs": [
    {
     "data": {
      "text/plain": [
       "0.2227359989984271"
      ]
     },
     "execution_count": 121,
     "metadata": {},
     "output_type": "execute_result"
    }
   ],
   "source": [
    "1-pval"
   ]
  },
  {
   "cell_type": "code",
   "execution_count": 147,
   "id": "6360d88d",
   "metadata": {},
   "outputs": [],
   "source": [
    "mu_probs = cyclic_proximal_point_algorithm_eu(data=probs,alpha=0.05,lambd=0.01,max_itr=100)\n",
    "eu_residual =probs-mu_probs"
   ]
  },
  {
   "cell_type": "code",
   "execution_count": 149,
   "id": "3c3a3612",
   "metadata": {},
   "outputs": [
    {
     "name": "stdout",
     "output_type": "stream",
     "text": [
      "0,8\n",
      "7,15\n",
      "14,22\n",
      "21,29\n"
     ]
    }
   ],
   "source": [
    "#0-7,7-14,14-21,21-28,29-36\n",
    "y=np.zeros((40,6))\n",
    "m = 5\n",
    "for i in range(4) :\n",
    "    start=8*i\n",
    "    end=8*i+8\n",
    "    print(str(7*i)+','+str(7*i+8))\n",
    "    y[start:end,:]=eu_residual[7*i:(7*i+8),0:6]\n",
    "    \n",
    "y[32:] = eu_residual[29:,0:6]"
   ]
  },
  {
   "cell_type": "code",
   "execution_count": 150,
   "id": "c4d7314e",
   "metadata": {},
   "outputs": [],
   "source": [
    "m=5\n",
    "n=8\n",
    "L=n//2+1\n",
    "D_my = np.zeros((m,L,6),dtype=complex)\n",
    "#xx = probs_residual[:,1:]\n",
    "for i in range(m):\n",
    "    low = i*n\n",
    "    up = (i+1)*n\n",
    "\n",
    "    D_my[i] =fft.fft(y[low:up],axis=0)[1:(L+1)]#/ np.sqrt(2 * np.pi * n)\n",
    "    #D_my[i] =fft.rfft(x[low:up],axis=0)[0:L]/np.sqrt(2*np.pi*n)\n",
    "D_my_conj = np.conj(D_my)\n",
    "D_mynorm = np.mean(np.abs(D_my)**2,axis=2)\n",
    "\n",
    "#  <D(uj,wk),D(uj,wk-1) >  1<=j<=m, 1<=k<= n/2    <m*(n/2)*d, m*(n/2)*d> ---> m*(n/2)\n",
    "inner_products = np.mean(D_my_conj[:,0:(L-1),:] * D_my[:, 1:L, :], axis=2)\n",
    "#inner_products2 = np.sum(D_conj[:,1:L,:] * D[:, 1:L, :], axis=2)\n",
    "F1hat =  np.sum(np.square(np.abs(inner_products)))/T\n",
    "\n",
    "V = D_my[:, 1:L, :]  # This has the shape (16, 8, 6) #D(u_j,lambda_k) : j=1,...,m, k =1,...,n/2\n",
    "V_conj_transpose = np.conj(V)  # This is the complex conjugate \n",
    "\n",
    "# Prepare the arrays for outer product calculation using broadcasting\n",
    "# Add a new axis to V for broadcasting to work correctly for the outer product\n",
    "V = V[:, :, :, np.newaxis]  # This will have the shape (16, 8, 6, 1)\n",
    "V_conj_transpose = V_conj_transpose[:, :, np.newaxis, :]  # This will have the shape (16, 8, 1, 6)\n",
    "\n",
    "# Now compute the outer product\n",
    "Imat = V * V_conj_transpose/6 # I(u_j,lambda_k) : j=1,...,m, k =1,...,n/2\n",
    "\n",
    "Ilambda = np.mean(Imat,axis=0) # mean of I over u (n/2)*(d*d)\n",
    "Il_sq = np.sum(np.abs(Ilambda)**2,axis=(1,2))#  ||mean of I over u ||_2 : vector in R^m\n",
    "\n",
    "F2hat= Il_sq.mean()/2\n",
    "Bhat = np.sum(D_mynorm[:,0:(L-1)]*D_mynorm[:,1:L])/T\n",
    "mhat = (F1hat-F2hat+Bhat/m)\n",
    "#mhat = F1_hat-F2_hat\n",
    "vhat =np.sqrt(np.sum(np.mean(np.abs(inner_products)**2,axis=0)**2)/n)\n",
    "z_eu = np.sqrt(T)*mhat/vhat"
   ]
  },
  {
   "cell_type": "code",
   "execution_count": 151,
   "id": "e563a2b5",
   "metadata": {},
   "outputs": [
    {
     "data": {
      "text/plain": [
       "0.9309691460545808"
      ]
     },
     "execution_count": 151,
     "metadata": {},
     "output_type": "execute_result"
    }
   ],
   "source": [
    "1-stats.norm.cdf(z_eu)"
   ]
  },
  {
   "cell_type": "code",
   "execution_count": 152,
   "id": "bbc4ae61",
   "metadata": {},
   "outputs": [],
   "source": [
    "def clr_transform(x):\n",
    "    \"\"\"\n",
    "    Apply the Aitchison (CLR) transformation to a compositional vector x.\n",
    "\n",
    "    Parameters:\n",
    "    x (array-like): Compositional vector (positive entries summing to 1)\n",
    "\n",
    "    Returns:\n",
    "    np.ndarray: CLR-transformed vector\n",
    "    \"\"\"\n",
    "    x = np.asarray(x)\n",
    "    if np.any(x <= 0):\n",
    "        raise ValueError(\"All components must be positive.\")\n",
    "    log_x = np.log(x)\n",
    "    mean_log = np.mean(log_x)\n",
    "    return log_x - mean_log"
   ]
  },
  {
   "cell_type": "code",
   "execution_count": 153,
   "id": "24eab304",
   "metadata": {},
   "outputs": [
    {
     "name": "stdout",
     "output_type": "stream",
     "text": [
      "0,8\n",
      "7,15\n",
      "14,22\n",
      "21,29\n"
     ]
    }
   ],
   "source": [
    "Ait_data= np.zeros((probs.shape))\n",
    "for i in range(Ait_data.shape[0]):\n",
    "    Ait_data[i] = clr_transform(probs[i])\n",
    "mu_ait = cyclic_proximal_point_algorithm_eu(data=Ait_data,alpha=0.05,lambd=0.01,max_itr=100)\n",
    "ait_residual =mu_ait-Ait_data\n",
    "y_ait=np.zeros((40,6))\n",
    "m = 5\n",
    "for i in range(4) :\n",
    "    start=8*i\n",
    "    end=8*i+8\n",
    "    print(str(7*i)+','+str(7*i+8))\n",
    "    y_ait[start:end,:]=ait_residual[7*i:(7*i+8),0:6]\n",
    "    \n",
    "y_ait[32:] = ait_residual[29:,0:6]"
   ]
  },
  {
   "cell_type": "code",
   "execution_count": 154,
   "id": "7e8fcc35",
   "metadata": {},
   "outputs": [],
   "source": [
    "m=5\n",
    "n=8\n",
    "L=n//2+1\n",
    "D_my = np.zeros((m,L,6),dtype=complex)\n",
    "#xx = probs_residual[:,1:]\n",
    "for i in range(m):\n",
    "    low = i*n\n",
    "    up = (i+1)*n\n",
    "\n",
    "    D_my[i] =fft.fft(y_ait[low:up],axis=0)[1:(L+1)]#/ np.sqrt(2 * np.pi * n)\n",
    "    #D_my[i] =fft.rfft(x[low:up],axis=0)[0:L]/np.sqrt(2*np.pi*n)\n",
    "D_my_conj = np.conj(D_my)\n",
    "D_mynorm = np.mean(np.abs(D_my)**2,axis=2)\n",
    "\n",
    "#  <D(uj,wk),D(uj,wk-1) >  1<=j<=m, 1<=k<= n/2    <m*(n/2)*d, m*(n/2)*d> ---> m*(n/2)\n",
    "inner_products = np.mean(D_my_conj[:,0:(L-1),:] * D_my[:, 1:L, :], axis=2)\n",
    "#inner_products2 = np.sum(D_conj[:,1:L,:] * D[:, 1:L, :], axis=2)\n",
    "F1hat =  np.sum(np.square(np.abs(inner_products)))/T\n",
    "\n",
    "V = D_my[:, 1:L, :]  # This has the shape (16, 8, 6) #D(u_j,lambda_k) : j=1,...,m, k =1,...,n/2\n",
    "V_conj_transpose = np.conj(V)  # This is the complex conjugate \n",
    "\n",
    "# Prepare the arrays for outer product calculation using broadcasting\n",
    "# Add a new axis to V for broadcasting to work correctly for the outer product\n",
    "V = V[:, :, :, np.newaxis]  # This will have the shape (16, 8, 6, 1)\n",
    "V_conj_transpose = V_conj_transpose[:, :, np.newaxis, :]  # This will have the shape (16, 8, 1, 6)\n",
    "\n",
    "# Now compute the outer product\n",
    "Imat = V * V_conj_transpose/6 # I(u_j,lambda_k) : j=1,...,m, k =1,...,n/2\n",
    "\n",
    "Ilambda = np.mean(Imat,axis=0) # mean of I over u (n/2)*(d*d)\n",
    "Il_sq = np.sum(np.abs(Ilambda)**2,axis=(1,2))#  ||mean of I over u ||_2 : vector in R^m\n",
    "\n",
    "F2hat= Il_sq.mean()/2\n",
    "Bhat = np.sum(D_mynorm[:,0:(L-1)]*D_mynorm[:,1:L])/T\n",
    "mhat = (F1hat-F2hat+Bhat/m)\n",
    "#mhat = F1_hat-F2_hat\n",
    "vhat =np.sqrt(np.sum(np.mean(np.abs(inner_products)**2,axis=0)**2)/n)\n",
    "z_ait = np.sqrt(T)*mhat/vhat"
   ]
  },
  {
   "cell_type": "code",
   "execution_count": 155,
   "id": "e23f5d9a",
   "metadata": {},
   "outputs": [
    {
     "data": {
      "text/plain": [
       "0.16974840954403847"
      ]
     },
     "execution_count": 155,
     "metadata": {},
     "output_type": "execute_result"
    }
   ],
   "source": [
    "1-stats.norm.cdf(z_ait)"
   ]
  }
 ],
 "metadata": {
  "kernelspec": {
   "display_name": "Python 3 (ipykernel)",
   "language": "python",
   "name": "python3"
  },
  "language_info": {
   "codemirror_mode": {
    "name": "ipython",
    "version": 3
   },
   "file_extension": ".py",
   "mimetype": "text/x-python",
   "name": "python",
   "nbconvert_exporter": "python",
   "pygments_lexer": "ipython3",
   "version": "3.9.7"
  }
 },
 "nbformat": 4,
 "nbformat_minor": 5
}
