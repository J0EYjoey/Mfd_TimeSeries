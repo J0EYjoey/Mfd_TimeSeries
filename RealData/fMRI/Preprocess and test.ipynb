{
 "cells": [
  {
   "cell_type": "code",
   "execution_count": 1,
   "id": "fe667404",
   "metadata": {
    "scrolled": true
   },
   "outputs": [
    {
     "name": "stderr",
     "output_type": "stream",
     "text": [
      "/Users/junhaozhu/opt/anaconda3/lib/python3.9/site-packages/pandas/core/computation/expressions.py:21: UserWarning: Pandas requires version '2.8.4' or newer of 'numexpr' (version '2.8.3' currently installed).\n",
      "  from pandas.core.computation.check import NUMEXPR_INSTALLED\n",
      "/Users/junhaozhu/opt/anaconda3/lib/python3.9/site-packages/pandas/core/arrays/masked.py:60: UserWarning: Pandas requires version '1.3.6' or newer of 'bottleneck' (version '1.3.5' currently installed).\n",
      "  from pandas.core import (\n"
     ]
    }
   ],
   "source": [
    "import numpy as np\n",
    "import pandas as pd \n",
    "import glob\n",
    "\n",
    "#idx = idx[1:]\n",
    "#dataraw = np.loadtxt('aparcsubject_100206.dat')\n",
    "#data= dataraw[1:,].copy()\n",
    "ROI = pd.read_csv('labelROI.csv',header=None)\n",
    "ROI =ROI.values[:,1]\n",
    "ROIraw = pd.read_csv('fsaverage.aparc.lut.txt',header=None)\n",
    "#print(data)\n",
    "import numpy.fft as fft\n",
    "import scipy.stats as stats\n",
    "# social=np.loadtxt('social_100206.dat')\n",
    "# motor =np.loadtxt('motor_100206.dat')\n",
    "# emo= np.loadtxt('emotion_100206.dat')\n",
    "# lang=np.loadtxt('language_100307.dat')"
   ]
  },
  {
   "cell_type": "code",
   "execution_count": 2,
   "id": "7034a170",
   "metadata": {},
   "outputs": [],
   "source": [
    "import matplotlib.pyplot as plt\n",
    "import seaborn as sns\n"
   ]
  },
  {
   "cell_type": "code",
   "execution_count": 3,
   "id": "3ac83dc0",
   "metadata": {},
   "outputs": [
    {
     "name": "stderr",
     "output_type": "stream",
     "text": [
      "INFO: Using numpy backend\n"
     ]
    }
   ],
   "source": [
    "import geomstats.backend as gs\n",
    "import geomstats.visualization as visualization\n",
    "\n",
    "\n",
    "from geomstats.learning.frechet_mean import FrechetMean\n",
    "from geomstats.geometry.matrices import Matrices, MatricesMetric\n",
    "\n",
    "from geomstats.geometry.symmetric_matrices import SymmetricMatrices\n",
    "from geomstats.geometry import spd_matrices"
   ]
  },
  {
   "cell_type": "code",
   "execution_count": 4,
   "id": "e13ddea4",
   "metadata": {},
   "outputs": [],
   "source": [
    "files = glob.glob('fMRIaparcparcellationLanguage/*.dat')\n",
    "\n",
    "# Assume space-delimited text files\n",
    "#dfs = [pd.read_csv(f, delim_whitespace=True, header=None) for f in files]"
   ]
  },
  {
   "cell_type": "code",
   "execution_count": 5,
   "id": "60786005",
   "metadata": {},
   "outputs": [],
   "source": [
    "raw_data = np.zeros((len(files),69,316))\n",
    "for i in range(len(files)):\n",
    "    #num = files[i]\n",
    "    #name =str(f'fMRIaparcparcellationLanguage/aparcsubject_{num}.dat')\n",
    "    raw_data[i,:,:] =  np.loadtxt(files[i])"
   ]
  },
  {
   "cell_type": "code",
   "execution_count": 5,
   "id": "e74c84e3",
   "metadata": {},
   "outputs": [
    {
     "data": {
      "text/plain": [
       "637"
      ]
     },
     "execution_count": 5,
     "metadata": {},
     "output_type": "execute_result"
    }
   ],
   "source": [
    "len(files)"
   ]
  },
  {
   "cell_type": "code",
   "execution_count": 6,
   "id": "37bbe55a",
   "metadata": {},
   "outputs": [],
   "source": [
    "idx = np.loadtxt('templateindex.txt',dtype=int)\n",
    "ROI_select = ['L_superiortemporal','L_middletemporal','R_middletemporal']\n",
    "ROI_select_idx=[]\n",
    "ROI_aug=np.insert(ROI, 0,'others' )\n",
    "ROI_aug = np.delete(ROI_aug, [4, 39])\n",
    "for i in range(ROI_aug.shape[0]):\n",
    "    if ROI_aug [i] in ROI_select:\n",
    "        ROI_select_idx.append(i)\n",
    "#tempidx =np.loadtxt('templateindex.txt',dtype=int)\n",
    "# ROI_aug2=np.insert(ROI, 0,'others' )\n",
    "# ROI_aug2=ROI_aug2[tempidx]\n",
    "#ROI_aug2==ROI_aug"
   ]
  },
  {
   "cell_type": "code",
   "execution_count": 7,
   "id": "1a8c94ca",
   "metadata": {},
   "outputs": [],
   "source": [
    "data_ROI = raw_data[:,ROI_select_idx,:]\n",
    "#data_ROI.shape\n",
    "data_ROI=data_ROI"
   ]
  },
  {
   "cell_type": "code",
   "execution_count": 8,
   "id": "410148e3",
   "metadata": {},
   "outputs": [],
   "source": [
    "MWsize = 30\n",
    "n_subjects, n_rois, n_timepoints = data_ROI.shape\n",
    "n_windows = n_timepoints - MWsize + 1\n",
    "cov_matrices = np.zeros((n_subjects, n_windows, n_rois, n_rois))\n",
    "for subj in range(n_subjects):\n",
    "    for t in range(n_windows):\n",
    "        # Extract data in current window: shape [3,MWsize]\n",
    "        window_data = data_ROI[subj, :, t:(t+MWsize)]\n",
    "\n",
    "        # Compute covariance across time: shape [4, 4]\n",
    "        cov = np.cov(window_data, rowvar=True) /1000 # rows = ROIs\n",
    "\n",
    "        cov_matrices[subj, t] = cov\n"
   ]
  },
  {
   "cell_type": "code",
   "execution_count": 9,
   "id": "5172ce39",
   "metadata": {},
   "outputs": [
    {
     "data": {
      "text/plain": [
       "(287, 316)"
      ]
     },
     "execution_count": 9,
     "metadata": {},
     "output_type": "execute_result"
    }
   ],
   "source": [
    "n_windows,n_timepoints"
   ]
  },
  {
   "cell_type": "code",
   "execution_count": 10,
   "id": "58021f54",
   "metadata": {},
   "outputs": [],
   "source": [
    "d = n_rois\n",
    "mfd = spd_matrices.SPDMetricAffine(n=d, power_affine=1)\n",
    "aux= spd_matrices.SPDMatrices(n=d)\n",
    "\n",
    "\n",
    "Pop_cov = np.zeros((n_windows, n_rois, n_rois))\n",
    "for i in range(n_windows):\n",
    "    fmean = FrechetMean(metric=mfd)\n",
    "    fmean.fit(cov_matrices[:,i,:,:])\n",
    "    mean =fmean.estimate_\n",
    "    Pop_cov[i]=mean"
   ]
  },
  {
   "cell_type": "code",
   "execution_count": 12,
   "id": "4f9278c5",
   "metadata": {},
   "outputs": [],
   "source": [
    "np.save('Pop_cov.npy',Pop_cov)"
   ]
  },
  {
   "cell_type": "code",
   "execution_count": 11,
   "id": "09175220",
   "metadata": {},
   "outputs": [],
   "source": [
    "def E_comp(mu):\n",
    "    sqrt_mu = gs.linalg.sqrtm(mu)\n",
    "    E = np.zeros((6, 3, 3))\n",
    "    k = 0\n",
    "    for i in range(3):\n",
    "        for j in range(i, 3):\n",
    "            eiej = np.zeros((3, 3))\n",
    "            if (i == j):\n",
    "                eiej[i, i] = 1\n",
    "                # E[k,:,:]=np.dot(sqrt_mu,np.dot(eiej,sqrt_mu))\n",
    "            else:\n",
    "                eiej[i, j] = eiej[j, i] = 1 / np.sqrt(2)\n",
    "\n",
    "            E[k, :, :] = np.dot(sqrt_mu, np.dot(eiej, sqrt_mu))\n",
    "\n",
    "            k = k + 1\n",
    "    return E\n",
    "\n",
    "\n",
    "def Hess(mu, Y, V):\n",
    "    # mu: base point\n",
    "    # Y: pt to map\n",
    "    # V: direction\n",
    "    # mu_root: square root of mu\n",
    "    n = Y.shape[0]\n",
    "\n",
    "    H = np.zeros((n, 3, 3))\n",
    "    for k in range(n):\n",
    "        # W = mfd.log(Y[k],mu)\n",
    "        Yinv = np.linalg.inv(Y[k])\n",
    "        res = np.dot(V, aux.logm(np.dot(Yinv, mu))\n",
    "                     ) - np.dot(aux.logm(np.dot(mu, Yinv)), V\n",
    "                                ) + 2 * np.dot(mu, aux.differential_log(np.dot(Yinv, V), np.dot(Yinv, mu)))\n",
    "        H[k] = -0.5 * res\n",
    "    # Hess_tensor = np.zeros((6,3,3))\n",
    "\n",
    "    return H\n",
    "\n",
    "\n",
    "def coordinate(mu, E, V):\n",
    "    # mu: base point\n",
    "    # E: orthonormal base\n",
    "    # V: tangent vector\n",
    "    v = np.zeros(6)\n",
    "    for k in range(6):\n",
    "        v[k] = mfd.inner_product(V, E[k], mu)\n",
    "    return v\n",
    "\n",
    "\n",
    "def coortomat(mu, E, y):\n",
    "    # mu: base point\n",
    "    # E: orthonormal base\n",
    "    # V: tangent vector\n",
    "    # y = np.zeros(6)\n",
    "    V = np.zeros((3, 3))\n",
    "    for k in range(6):\n",
    "        V = V + y[k] * E[k]\n",
    "    return V\n",
    "\n",
    "\n",
    "def Hess_mat(mu, Y,  E):\n",
    "    # mu: base point\n",
    "    # Y: pt to map\n",
    "\n",
    "    n = Y.shape[0]\n",
    "    #E = E_comp(mu)\n",
    "    X = mu\n",
    "    Hmat = np.zeros((n, 6, 6))\n",
    "\n",
    "    for k in range(n):\n",
    "        for i in range(6):\n",
    "            for j in range(6):\n",
    "                t = 0.0000001\n",
    "                V = E[i]\n",
    "                end = mfd.exp(t * V, X)\n",
    "                Wend = mfd.log(Y[k], end)\n",
    "                W = mfd.log(Y[k], X)\n",
    "                PWend1 = mfd.parallel_transport(Wend, end, direction=mfd.log(X, end))\n",
    "                # PWend2= mfd.parallel_transport(Wend,end,end_point=X)\n",
    "                HV = (PWend1 - W) / t\n",
    "\n",
    "                U = E[j]\n",
    "                Hmat[k,i,j] = mfd.inner_product(HV, U, X)\n",
    "\n",
    "    #     for i in range(6):\n",
    "    #         for j in range(6):\n",
    "    #             Hei = Hess(mu,Y,E[i])\n",
    "    #             for k in range(n):\n",
    "    #                 Hmat[k,i,j] =  mfd.inner_product(Hei[k],E[j],mu)\n",
    "\n",
    "    return Hmat\n",
    "\n",
    "def Hess_mean(mu, Y, V):\n",
    "    H = Hess(mu, Y, V)\n",
    "    res = np.mean(H, axis=0)\n",
    "    return res\n",
    "\n",
    "\n",
    "def Hinv(mu, Y, V):\n",
    "    E = E_comp(mu)\n",
    "    y = np.zeros(6)\n",
    "\n",
    "    for k in range(6):\n",
    "        y[k] = mfd.inner_product(E[k], V, mu)\n",
    "\n",
    "    H_mat = np.zeros((6, 6))\n",
    "    for i in range(6):\n",
    "        for j in range(6):\n",
    "            Hei = Hess_mean(mu, Y, E[i])\n",
    "            H_mat[i, j] = mfd.inner_product(Hei, E[j], mu)\n",
    "\n",
    "    xcoef = np.dot(np.linalg.inv(H_mat), y)\n",
    "\n",
    "    res = np.zeros((3, 3))\n",
    "\n",
    "    for k in range(6):\n",
    "        res = res + xcoef[k] * E[k]\n",
    "\n",
    "    return res\n",
    "\n",
    "\n",
    "\n",
    "def resvec_to_sum(res_vec, w=3):\n",
    "    # local sum\n",
    "    dim = res_vec.shape[1]\n",
    "    N = res_vec.shape[0]\n",
    "    res = np.zeros((N - w + 1, dim))\n",
    "    for i in range(dim):\n",
    "        res[:, i] = np.convolve(res_vec[:, i], np.ones(w), 'valid')\n",
    "\n",
    "    return res\n",
    "\n",
    "\n",
    "def gamma_m(res_vec, w=3):\n",
    "    localvar = resvec_to_sum(res_vec, w) ** 2\n",
    "    n, dim = localvar.shape\n",
    "    res = np.zeros((n, dim))\n",
    "    for i in range(dim):\n",
    "        res[:, i] = np.cumsum(localvar[:, i]) / (w * n)\n",
    "    return (res)\n",
    "\n",
    "\n",
    "def volatity(res_vec, wlst):\n",
    "    wm = max(wlst)\n",
    "    L = len(wlst)\n",
    "    n, dim = res_vec.shape\n",
    "    localvar_res = np.zeros(shape=(n - wm + 1, dim, L))\n",
    "    for i in range(L):\n",
    "        localvar_res[:, :, i] = gamma_m(res_vec, wlst[i])[:(n - wm + 1), ]\n",
    "\n",
    "    vol = np.zeros((n - wm + 1, dim, L - 2))\n",
    "    for j in range(n - wm + 1):\n",
    "        for k in range(dim):\n",
    "            for i in range(L - 4):\n",
    "                vol[j, k, i] = np.std(localvar_res[j, k, i:(i + 3)])\n",
    "\n",
    "    vol_sum = np.sum(vol, axis=1)\n",
    "\n",
    "    return np.max(vol_sum, axis=0)\n",
    "\n",
    "\n",
    "def select_window(res_vec, wlst):\n",
    "    vol = volatity(res_vec, wlst)\n",
    "    idx = np.argmin(np.max(vol, axis=0))\n",
    "    return (wlst[idx + 1])\n",
    "\n",
    "\n",
    "def local_sum(res, w=3):\n",
    "    # local sum for reisduals\n",
    "    dim = res.shape[1]\n",
    "    N = res.shape[0]\n",
    "    locsum = np.zeros((N - w + 1, dim, dim))\n",
    "    for i in range(dim):\n",
    "        for j in range(dim):\n",
    "            locsum[:, i, j] = np.convolve(res[:, i, j], np.ones(w), 'valid')\n",
    "\n",
    "    return locsum\n",
    "\n",
    "\n",
    "def generate_Phi(locsum):\n",
    "    # Philst = np.zeros(locsum.shape)\n",
    "    n = locsum.shape[0]\n",
    "    g = np.random.normal(size=n)\n",
    "    g = g.reshape((n, 1, 1))\n",
    "    dPhi = g * locsum\n",
    "    Phi = np.cumsum(dPhi, axis=0)\n",
    "    return Phi\n",
    "\n",
    "\n",
    "def bootstrap_test(residual, data, mean, w=24, B=400, seed=2023):\n",
    "    n = residual.shape[0]\n",
    "    res_cusum = np.cumsum(residual/np.sqrt(n), axis=0)\n",
    "\n",
    "    res_cusum_norm = mfd.inner_product(res_cusum, res_cusum, mean)\n",
    "\n",
    "    Tn = np.sqrt(res_cusum_norm.max())\n",
    "\n",
    "    B = B  # bootstrap size\n",
    "    Boot_Stat = np.zeros(B)\n",
    "    Boot_Stat2 = np.zeros(B)\n",
    "    locsum = local_sum(residual, w=w)\n",
    "    E = E_comp(mean)\n",
    "    Hmat = Hess_mat(mean, data,  E)\n",
    "\n",
    "    for i in range(B):\n",
    "        # np.random.seed(seed*2023+i)\n",
    "        Phi = generate_Phi(locsum) / np.sqrt(w * (n - w + 1))\n",
    "        Phi2 = generate_Phi(locsum) / np.sqrt(w * (n - w + 1))\n",
    "\n",
    "        U1 = Phi[n - w]\n",
    "        U1_coor = coordinate(mean, E, U1)\n",
    "        Hmat_mean = np.mean(Hmat, axis=0)\n",
    "        Hmat_cumean = np.cumsum(Hmat, axis=0) / n\n",
    "\n",
    "        y = np.dot(np.linalg.inv(Hmat_mean), U1_coor)\n",
    "\n",
    "        Hcoor = np.zeros((n, 6))\n",
    "        HHU1 = np.zeros((n, 3, 3))\n",
    "        for k in range(n):\n",
    "            Hcoor[k] = np.dot(Hmat_cumean[k], y)\n",
    "            HHU1[k] = coortomat(mean, E, Hcoor[k])\n",
    "\n",
    "\n",
    "        for k in range(n - w + 1):\n",
    "            Phi[k] = Phi[k] - HHU1[k]\n",
    "            Phi2[k] = Phi2[k] - (k + 1) / (n - w + 1) * Phi2[n - w]\n",
    "\n",
    "        Phinorm = mfd.inner_product(Phi, Phi, mean)\n",
    "        Phinorm2 = mfd.inner_product(Phi2, Phi2, mean)\n",
    "        Boot_Stat[i] = np.sqrt(np.max(Phinorm[w:]))\n",
    "        Boot_Stat2[i] = np.sqrt(np.max(Phinorm2[w:]))\n",
    "\n",
    "    return np.mean(Boot_Stat >= Tn), np.mean(Boot_Stat2 >= Tn)\n",
    "\n"
   ]
  },
  {
   "cell_type": "code",
   "execution_count": 138,
   "id": "db11d060",
   "metadata": {},
   "outputs": [],
   "source": [
    "# bootstrap_test using AIM\n",
    "nsamples= n_windows\n",
    "data = Pop_cov[:nsamples,]\n",
    "B=2000\n",
    "L =max(np.ceil(0.01*nsamples),2)\n",
    "# if(nsamples<100):L=1\n",
    "U = max(0.05*nsamples+1,10)\n",
    "\n",
    "windows =np.arange(L,U)\n",
    "windows = (np.rint(windows)).astype(int)\n",
    "fmean = FrechetMean(metric=mfd, max_iter=10000, epsilon=1e-10)\n",
    "fmean.fit(data)  # frechet mean function\n",
    "mean = fmean.estimate_  # empirical frechet mean\n",
    "\n",
    "residual = mfd.log(point=data, base_point=mean)  # residual\n",
    "residual_vec = SymmetricMatrices.to_vector(residual)  # residual to vector\n",
    "w1 = select_window(residual_vec, windows)  # selec window size in bootstrap\n",
    "\n",
    "\n",
    "pval1, pval2 = bootstrap_test(residual, data, mean, w=w1, B=B, seed= 10000)\n",
    "\n",
    "# return (pval1, pval2)"
   ]
  },
  {
   "cell_type": "code",
   "execution_count": 139,
   "id": "a1636f99",
   "metadata": {
    "scrolled": true
   },
   "outputs": [
    {
     "data": {
      "text/plain": [
       "(0.0075, 0.0065)"
      ]
     },
     "execution_count": 139,
     "metadata": {},
     "output_type": "execute_result"
    }
   ],
   "source": [
    "pval1,pval2"
   ]
  },
  {
   "cell_type": "code",
   "execution_count": 51,
   "id": "7d80aaa0",
   "metadata": {},
   "outputs": [],
   "source": [
    "fmean = FrechetMean(metric=mfd, max_iter=10000, epsilon=1e-10)\n",
    "fmean.fit(data)  # frechet mean function\n",
    "mean = fmean.estimate_  # empirical frechet mean\n",
    "\n",
    "residual = mfd.log(point=data, base_point=mean)  # residual\n",
    "residual_vec = SymmetricMatrices.to_vector(residual) "
   ]
  },
  {
   "cell_type": "code",
   "execution_count": 52,
   "id": "7c151536",
   "metadata": {},
   "outputs": [
    {
     "data": {
      "image/png": "[encoded data removed]",
      "text/plain": [
       "<Figure size 432x288 with 1 Axes>"
      ]
     },
     "metadata": {
      "needs_background": "light"
     },
     "output_type": "display_data"
    }
   ],
   "source": [
    "plt.plot(residual_vec)\n",
    "plt.show()"
   ]
  },
  {
   "cell_type": "code",
   "execution_count": 53,
   "id": "dd09593b",
   "metadata": {},
   "outputs": [],
   "source": [
    "def calc_theta_r(alpha_r):\n",
    "    ### return the theta_r in Algorithm 1 , line 6 \n",
    "    theta = alpha_r/(1+alpha_r)\n",
    "    return theta\n",
    "\n",
    "def calc_inter(theta_r, p,q):\n",
    "    ### return the theta_r in Algorithm 1 , line 7\n",
    "    gd = mfd.geodesic(p,q)\n",
    "    return gd(theta_r)\n",
    "\n",
    "def cyclic_proximal_point_algorithm(data, alpha, lambd,max_itr = 1000):\n",
    "    \"\"\"\n",
    "    Implements the cyclic proximal point algorithm for p-TVq for manifold data.\n",
    "    \n",
    "    :param f: Manifold-valued image, numpy array of shape (n, m)\n",
    "    :param α: Regularization parameter\n",
    "    :param λ: Sequence for proximal mappings\n",
    "    :param n: Number of rows in the image\n",
    "    :param m: Number of columns in the image\n",
    "    :return: Minimizer x of the p-TVq problem\n",
    "    \"\"\"\n",
    "    Y = np.copy(data)\n",
    "    n = Y.shape[0]\n",
    "    mu = np.copy(Y)\n",
    "    for r in range(max_itr):\n",
    "        alpha_r = alpha/(r+2)\n",
    "        for i in range(n-1):\n",
    "            theta = calc_theta_r(alpha_r)\n",
    "            mu_i_new  = calc_inter(theta, mu[i],Y[i])\n",
    "            mu[i] = mu_i_new\n",
    "        \n",
    "        for j in range(n-1):\n",
    "            theta = 0.5* min(lambd*n*alpha_r/mfd.dist(mu[j],mu[j+1]),1)\n",
    "            mu_j_new = calc_inter(theta, mu[j],mu[j+1])\n",
    "            mu_j1_new = calc_inter(theta, mu[j+1],mu[j])\n",
    "            mu[j] =  mu_j_new\n",
    "            mu[j+1] =mu_j1_new\n",
    "       \n",
    "        \n",
    "\n",
    "    return mu\n"
   ]
  },
  {
   "cell_type": "code",
   "execution_count": 165,
   "id": "28eaf478",
   "metadata": {},
   "outputs": [],
   "source": [
    "def cross_validate_lambda(data, alpha, lambda_list, mfd, max_itr=100):\n",
    "    \"\"\"\n",
    "    Perform 2-fold CV over even-indexed time points to select best lambda.\n",
    "    data: list of length 256 of manifold-valued data\n",
    "    alpha: fixed hyperparameter for cyclic_proximal_point_algorithm\n",
    "    lambda_list: list of lambdas to evaluate\n",
    "    mfd: manifold object with mfd.geodesic(p1, p2)(t) function\n",
    "    \"\"\"\n",
    "    errors = []\n",
    "    T=data.shape[0]\n",
    "\n",
    "    even_indices = np.arange(2, T-2, 2)  # exclude boundaries 0 and 254 for safety\n",
    "    for lambd in lambda_list:\n",
    "        # Train on odd t\n",
    "        train_data = [data[t] for t in range(T-2) if t % 2 == 1]\n",
    "        # Reconstruct full series with estimated values (only odd t used for training)\n",
    "        muhat = cyclic_proximal_point_algorithm(data=train_data, alpha=alpha, lambd=lambd, max_itr=max_itr)\n",
    "\n",
    "        total_error = 0.0\n",
    "        count = 0\n",
    "\n",
    "        for t in even_indices:\n",
    "            # Predict using geodesic interpolation between muhat[t-1] and muhat[t+1]\n",
    "            p1, p2 = muhat[(t - 1) // 2], muhat[(t + 1) // 2]  # map to odd indices in training data\n",
    "            geod = mfd.geodesic(p1, p2)\n",
    "            pred = geod(0.5)\n",
    "\n",
    "            # Compute squared geodesic distance between prediction and true data[t]\n",
    "            error = mfd.dist(pred, data[t]) ** 2\n",
    "            total_error += error\n",
    "            count += 1\n",
    "\n",
    "        avg_error = total_error / count\n",
    "        errors.append(avg_error)\n",
    "\n",
    "    best_idx = int(np.argmin(errors))\n",
    "    best_lambda = lambda_list[best_idx]\n",
    "\n",
    "    return best_lambda, errors"
   ]
  },
  {
   "cell_type": "code",
   "execution_count": 166,
   "id": "57f4076c",
   "metadata": {},
   "outputs": [
    {
     "name": "stdout",
     "output_type": "stream",
     "text": [
      "Best lambda: 0.0001\n"
     ]
    }
   ],
   "source": [
    "data_aug=np.concatenate([data,data[-1].reshape(1,3,3)],axis=0)\n",
    "lambda_list = [1, 0.5,0.1,0.05, 0.01, 0.0005,0.001,0.0005,0.0001]\n",
    "best_lambda, error_list = cross_validate_lambda(data_aug, alpha=0.5, lambda_list=lambda_list, mfd=mfd)\n",
    "print(f\"Best lambda: {best_lambda}\")"
   ]
  },
  {
   "cell_type": "code",
   "execution_count": 167,
   "id": "d6ccddae",
   "metadata": {
    "scrolled": true
   },
   "outputs": [],
   "source": [
    "\n",
    "lambd = best_lambda\n",
    "alpha=0.05\n",
    "\n",
    "muhat = cyclic_proximal_point_algorithm(data=data_aug, alpha=alpha, lambd=lambd,max_itr = 100)\n",
    "err = mfd.log(data_aug,muhat)\n",
    "T = n_windows+1\n",
    "#muhat.shape,data.shape\n",
    "xx=np.zeros((T,3,3))\n",
    "xx[0] =err[0]\n",
    "for k in range(1,T):\n",
    "    tmp = err[k]\n",
    "    now = k\n",
    "    for j in range(k):\n",
    "        tmp = mfd.parallel_transport(tmp,muhat[now], end_point=muhat[now-1])\n",
    "        now=now-1\n",
    "    xx[k] = tmp\n",
    "    \n",
    "xx=100*xx"
   ]
  },
  {
   "cell_type": "code",
   "execution_count": 168,
   "id": "d475db42",
   "metadata": {},
   "outputs": [
    {
     "data": {
      "text/plain": [
       "[<matplotlib.lines.Line2D at 0x7fc8e8eb2280>]"
      ]
     },
     "execution_count": 168,
     "metadata": {},
     "output_type": "execute_result"
    },
    {
     "data": {
      "image/png": "[encoded data removed]",
      "text/plain": [
       "<Figure size 432x288 with 1 Axes>"
      ]
     },
     "metadata": {
      "needs_background": "light"
     },
     "output_type": "display_data"
    }
   ],
   "source": [
    "plt.plot(xx[:,0,0])"
   ]
  },
  {
   "cell_type": "code",
   "execution_count": 173,
   "id": "580413e3",
   "metadata": {},
   "outputs": [
    {
     "data": {
      "text/plain": [
       "[<matplotlib.lines.Line2D at 0x7fc8e8eee6d0>,\n",
       " <matplotlib.lines.Line2D at 0x7fc8e8eee790>,\n",
       " <matplotlib.lines.Line2D at 0x7fc8e8eee8b0>]"
      ]
     },
     "execution_count": 173,
     "metadata": {},
     "output_type": "execute_result"
    },
    {
     "data": {
      "image/png": "[encoded data removed]",
      "text/plain": [
       "<Figure size 432x288 with 1 Axes>"
      ]
     },
     "metadata": {
      "needs_background": "light"
     },
     "output_type": "display_data"
    }
   ],
   "source": [
    "plt.plot(muhat[:,0,:])"
   ]
  },
  {
   "cell_type": "code",
   "execution_count": 174,
   "id": "c924250b",
   "metadata": {},
   "outputs": [],
   "source": [
    "#T_lst = [1024]\n",
    "#T_lst = [2048]   \n",
    "#tau_lst = [0,0.25,0.5,0.75,1]\n",
    "#tau_lst = [1.5]\n",
    "T=data_aug.shape[0]\n",
    "\n",
    "\n",
    "## sample size\n",
    "m =  8\n",
    "n = n_windows // m  # 64\n",
    "repli_s =100\n",
    "L = n//2+1\n",
    "u = (n * np.arange(m) + n / 2) / T\n",
    "omega = 2 * np.pi * np.arange(1, n + 1) / n\n",
    "d = 6\n",
    "\n",
    "#z = np.zeros(repli_s)\n",
    "\n",
    " \n",
    "x = xx.reshape((T,9))\n",
    "x=x[:,[0,1,2,4,5,8]]\n",
    "x = x - np.mean(x, axis=0)\n",
    "\n",
    "D_my = np.zeros((m,L,6),dtype=complex)\n",
    "for i in range(m):\n",
    "    low = i*n\n",
    "    up = (i+1)*n\n",
    "\n",
    "    D_my[i] =fft.fft(x[low:up],axis=0)[1:(L+1)]#/ np.sqrt(2 * np.pi * n)\n",
    "    #D_my[i] =fft.rfft(x[low:up],axis=0)[0:L]/np.sqrt(2*np.pi*n)\n",
    "D_my_conj = np.conj(D_my)\n",
    "D_mynorm = np.mean(np.abs(D_my)**2,axis=2)\n",
    "\n",
    "#  <D(uj,wk),D(uj,wk-1) >  1<=j<=m, 1<=k<= n/2    <m*(n/2)*d, m*(n/2)*d> ---> m*(n/2)\n",
    "inner_products = np.mean(D_my_conj[:,0:(L-1),:] * D_my[:, 1:L, :], axis=2)\n",
    "#inner_products2 = np.sum(D_conj[:,1:L,:] * D[:, 1:L, :], axis=2)\n",
    "F1hat =  np.sum(np.square(np.abs(inner_products)))/T\n",
    "\n",
    "V = D_my[:, 1:L, :]  # This has the shape (16, 8, 6) #D(u_j,lambda_k) : j=1,...,m, k =1,...,n/2\n",
    "V_conj_transpose = np.conj(V)  # This is the complex conjugate \n",
    "\n",
    "# Prepare the arrays for outer product calculation using broadcasting\n",
    "# Add a new axis to V for broadcasting to work correctly for the outer product\n",
    "V = V[:, :, :, np.newaxis]  # This will have the shape (16, 8, 6, 1)\n",
    "V_conj_transpose = V_conj_transpose[:, :, np.newaxis, :]  # This will have the shape (16, 8, 1, 6)\n",
    "\n",
    "# Now compute the outer product\n",
    "Imat = V * V_conj_transpose/d # I(u_j,lambda_k) : j=1,...,m, k =1,...,n/2\n",
    "\n",
    "Ilambda = np.mean(Imat,axis=0) # mean of I over u (n/2)*(d*d)\n",
    "Il_sq = np.sum(np.abs(Ilambda)**2,axis=(1,2))#  ||mean of I over u ||_2 : vector in R^m\n",
    "\n",
    "F2hat= Il_sq.mean()/2\n",
    "Bhat = np.sum(D_mynorm[:,0:(L-1)]*D_mynorm[:,1:L])/T\n",
    "mhat = (F1hat-F2hat+Bhat/m)\n",
    "#mhat = F1_hat-F2_hat\n",
    "vhat =np.sqrt(np.sum(np.mean(np.abs(inner_products)**2,axis=0)**2)/n)\n",
    "z = np.sqrt(T)*mhat/vhat"
   ]
  },
  {
   "cell_type": "code",
   "execution_count": 175,
   "id": "9db62a8e",
   "metadata": {},
   "outputs": [
    {
     "name": "stdout",
     "output_type": "stream",
     "text": [
      "p-value: 0.826610434269809\n"
     ]
    }
   ],
   "source": [
    "print(f\"p-value: {stats.norm.cdf(z)}\")"
   ]
  },
  {
   "cell_type": "code",
   "execution_count": null,
   "id": "b536302a",
   "metadata": {},
   "outputs": [],
   "source": [
    "\n",
    "def resvec_to_sum(res_vec, w=3):\n",
    "    # local sum\n",
    "    dim = res_vec.shape[1]\n",
    "    N = res_vec.shape[0]\n",
    "    res = np.zeros((N - w + 1, dim))\n",
    "    for i in range(dim):\n",
    "        res[:, i] = np.convolve(res_vec[:, i], np.ones(w), 'valid')\n",
    "\n",
    "    return res\n",
    "\n",
    "\n",
    "def gamma_m(res_vec, w=3):\n",
    "    localvar = resvec_to_sum(res_vec, w) ** 2\n",
    "    n, dim = localvar.shape\n",
    "    res = np.zeros((n, dim))\n",
    "    for i in range(dim):\n",
    "        res[:, i] = np.cumsum(localvar[:, i]) / (w * n)\n",
    "    return (res)\n",
    "\n",
    "\n",
    "def resvec_to_sum(res_vec,w=3):\n",
    "    # local sum\n",
    "    dim = res_vec.shape[1]\n",
    "    N = res_vec.shape[0]\n",
    "    res =np.zeros((N-w+1,dim))\n",
    "    for i in range(dim):\n",
    "        res[:,i] = np.convolve(res_vec[:,i], np.ones(w), 'valid')\n",
    "    \n",
    "    return res\n",
    "\n",
    "def gamma_m(res_vec,w=3):\n",
    "    localvar = resvec_to_sum(res_vec,w)**2\n",
    "    n,dim = localvar.shape\n",
    "    res = np.zeros((n,dim))\n",
    "    for i in range(dim):\n",
    "        res[:,i] = np.cumsum(localvar[:,i])/(w*n)\n",
    "    return(res)\n",
    "\n",
    "\n",
    "def volatity(res_vec,wlst):\n",
    "    wm =max(wlst)\n",
    "    L = len(wlst)\n",
    "    n,dim = res_vec.shape\n",
    "    localvar_res=np.zeros(shape=(n-wm+1 ,dim,L))\n",
    "    for i in range(L):\n",
    "         localvar_res[:,:,i] = gamma_m(res_vec,wlst[i])[:(n-wm+1),]\n",
    "    \n",
    "    vol = np.zeros((n-wm+1, dim,L-2))\n",
    "    for j in range(n-wm+1):\n",
    "        for k in range(dim):\n",
    "            for i in range(L-4):\n",
    "                vol[j,k,i] = np.std(localvar_res[j,k,i:(i+3)])\n",
    "    \n",
    "    vol_sum = np.sum(vol,axis=1)\n",
    "    \n",
    "    return np.max(vol_sum,axis=0)\n",
    "\n",
    "def select_window(res_vec,wlst):\n",
    "    vol = volatity(res_vec,wlst)\n",
    "    idx = np.argmin(np.max(vol,axis=0))\n",
    "    return(wlst[idx+1])\n",
    "\n",
    "\n",
    "def local_sum(res,w=3):\n",
    "    # local sum for reisduals\n",
    "    dim = res.shape[1]\n",
    "    N = res.shape[0]\n",
    "    locsum =np.zeros((N-w+1,dim))\n",
    "    for i in range(dim):\n",
    "        locsum[:,i] = np.convolve(res[:,i], np.ones(w), 'valid')\n",
    "    \n",
    "    return locsum\n",
    "\n",
    "def generate_Phi(locsum):\n",
    "    #Philst = np.zeros(locsum.shape)\n",
    "    n = locsum.shape[0]\n",
    "    g = np.random.normal(size=n)\n",
    "    g = g.reshape((n,1))\n",
    "    dPhi = g*locsum\n",
    "    Phi = np.cumsum(dPhi,axis=0)\n",
    "    return Phi\n",
    "\n"
   ]
  },
  {
   "cell_type": "code",
   "execution_count": 16,
   "id": "76fb34ef",
   "metadata": {},
   "outputs": [],
   "source": [
    "data= Pop_cov \n",
    "nsamples= 287\n",
    "data_eu=data.reshape((nsamples,9))\n",
    "data_eu=data_eu[:,[0,1,2,4,5,8]]\n",
    "residual = data_eu-np.mean(data_eu,axis=0)\n",
    "res_cusum =np.cumsum(residual,axis=0)\n",
    "res_cusum_norm = np.sqrt(np.sum(res_cusum*res_cusum,axis=1))\n",
    "Tn = res_cusum_norm.max()/np.sqrt(nsamples)\n",
    "\n",
    "L =max(np.ceil(0.01*nsamples),2)\n",
    "if(nsamples<100):L=1\n",
    "U = max(0.05*nsamples+1,6)\n",
    "windows =np.arange(L,U)\n",
    "# windows =np.linspace(0.02, 0.05, num=20) * nsample= 400\n",
    "windows = (np.rint(windows)).astype(int)\n",
    "w = select_window(residual,windows) \n",
    "B =2000# bootstrap size\n",
    "Boot_Stat= np.zeros(B)\n",
    "\n",
    "locsum = local_sum(residual,w=w)\n",
    "for i in range(B):\n",
    "    #np.random.seed(seed*10000+i)\n",
    "    Phi = generate_Phi(locsum)/np.sqrt(w*(nsamples-w+1))\n",
    "    for k in range(nsamples-w+1):\n",
    "\n",
    "        Phi[k] = Phi[k]-(k+1)/(nsamples-w+1)*Phi[nsamples-w]\n",
    "\n",
    "    Phinorm = np.sqrt(np.sum(Phi*Phi,axis=1))\n",
    "\n",
    "    Boot_Stat[i] = np.max(Phinorm[w:])\n",
    "pval_eu =np.mean(Boot_Stat>=Tn) \n"
   ]
  },
  {
   "cell_type": "code",
   "execution_count": 17,
   "id": "07500c0c",
   "metadata": {},
   "outputs": [
    {
     "data": {
      "text/plain": [
       "0.0135"
      ]
     },
     "execution_count": 17,
     "metadata": {},
     "output_type": "execute_result"
    }
   ],
   "source": [
    "pval_eu"
   ]
  }
 ],
 "metadata": {
  "kernelspec": {
   "display_name": "Python 3 (ipykernel)",
   "language": "python",
   "name": "python3"
  },
  "language_info": {
   "codemirror_mode": {
    "name": "ipython",
    "version": 3
   },
   "file_extension": ".py",
   "mimetype": "text/x-python",
   "name": "python",
   "nbconvert_exporter": "python",
   "pygments_lexer": "ipython3",
   "version": "3.9.7"
  }
 },
 "nbformat": 4,
 "nbformat_minor": 5
}
