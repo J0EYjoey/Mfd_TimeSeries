{
 "cells": [
  {
   "cell_type": "code",
   "execution_count": 1,
   "id": "a7710098",
   "metadata": {},
   "outputs": [
    {
     "name": "stderr",
     "output_type": "stream",
     "text": [
      "/Users/junhaozhu/opt/anaconda3/lib/python3.9/site-packages/pandas/core/computation/expressions.py:21: UserWarning: Pandas requires version '2.8.4' or newer of 'numexpr' (version '2.8.3' currently installed).\n",
      "  from pandas.core.computation.check import NUMEXPR_INSTALLED\n",
      "/Users/junhaozhu/opt/anaconda3/lib/python3.9/site-packages/pandas/core/arrays/masked.py:60: UserWarning: Pandas requires version '1.3.6' or newer of 'bottleneck' (version '1.3.5' currently installed).\n",
      "  from pandas.core import (\n",
      "INFO: Using numpy backend\n"
     ]
    }
   ],
   "source": [
    "import numpy as np\n",
    "import matplotlib.pyplot as plt\n",
    "import seaborn as sns\n",
    "import matplotlib.pyplot as plt\n",
    "\n",
    "import geomstats.backend as gs\n",
    "import geomstats.visualization as visualization\n",
    "\n",
    "from geomstats.learning.frechet_mean import FrechetMean\n",
    "from geomstats.geometry.matrices import Matrices, MatricesMetric"
   ]
  },
  {
   "cell_type": "code",
   "execution_count": 2,
   "id": "726f5309",
   "metadata": {},
   "outputs": [],
   "source": [
    "import pandas as pd"
   ]
  },
  {
   "cell_type": "code",
   "execution_count": 3,
   "id": "b851138f",
   "metadata": {},
   "outputs": [],
   "source": [
    "\n",
    "# define the manifold to be d*d spd matrix, d = 2 \n",
    "d=6\n",
    "from geomstats.geometry.hypersphere import Hypersphere\n",
    "\n",
    "sphere = Hypersphere(dim=d) \n",
    "mfd= sphere.metric\n"
   ]
  },
  {
   "cell_type": "code",
   "execution_count": 4,
   "id": "95daf863",
   "metadata": {},
   "outputs": [],
   "source": [
    "import numpy.fft as fft\n",
    "import scipy.stats as stats"
   ]
  },
  {
   "cell_type": "code",
   "execution_count": 5,
   "id": "f6f46e4e",
   "metadata": {},
   "outputs": [],
   "source": [
    "from tqdm import tqdm_notebook as tqdm"
   ]
  },
  {
   "cell_type": "code",
   "execution_count": 43,
   "id": "426e8ab2",
   "metadata": {},
   "outputs": [
    {
     "data": {
      "image/png": "[encoded data removed]",
      "text/plain": [
       "<Figure size 432x288 with 1 Axes>"
      ]
     },
     "metadata": {
      "needs_background": "light"
     },
     "output_type": "display_data"
    }
   ],
   "source": [
    "# def smooth_step(x, a=0.3, b=0.7, k=20):\n",
    "#     c = (a + b) / 2\n",
    "#     fx = 1 / (1 + np.exp(-k * (x - c)))\n",
    "#     # Normalize\n",
    "#     fa = 1 / (1 + np.exp(-k * (a - c)))\n",
    "#     fb = 1 / (1 + np.exp(-k * (b - c)))\n",
    "#     return (fx - fa) / (fb - fa)\n",
    "\n",
    "# x = np.linspace(0, 1, 500)\n",
    "# y = smooth_step(x)\n",
    "\n",
    "# plt.plot(x, y)\n",
    "# plt.title(\"Smooth Step Function using Scaled Sigmoid\")\n",
    "# plt.grid(True)\n",
    "# plt.show()"
   ]
  },
  {
   "cell_type": "code",
   "execution_count": 44,
   "id": "4163908e",
   "metadata": {},
   "outputs": [
    {
     "data": {
      "text/plain": [
       "-0.018610268486279356"
      ]
     },
     "execution_count": 44,
     "metadata": {},
     "output_type": "execute_result"
    }
   ],
   "source": [
    "smooth_step(0)"
   ]
  },
  {
   "cell_type": "code",
   "execution_count": 6,
   "id": "f02fba8d",
   "metadata": {},
   "outputs": [],
   "source": [
    "bp0 = np.array([0,0,0,0,0,0,1])\n",
    "\n",
    "def smooth_step(x, a=0.3, b=0.7):\n",
    "    x = gs.clip(x, 0, 1)\n",
    "    t = (x - a) / (b - a)\n",
    "    phi = lambda t: np.exp(-1 / (t * (1 - t))) * (t > 0) * (t < 1)\n",
    "    numerator = phi(t)\n",
    "    denominator = numerator + phi(1 - t)\n",
    "    result = gs.where(x <= a, 0, np.where(x >= b, 1, numerator / denominator))\n",
    "    return result\n",
    "\n",
    "\n",
    "\n",
    "def sigmoid(x, c=0.5, k=20):\n",
    "   # x = gs.clip(x, 0, 1)\n",
    "    fx = 1 / (1 + np.exp(-k * (x - c)))\n",
    "    #t = (x - a) / (b - a)\n",
    "   # phi = lambda t: np.exp(-1 / (t * (1 - t))) * (t > 0) * (t < 1)\n",
    "   # numerator = phi(t)\n",
    "    #denominator = numerator + phi(1 - t)\n",
    "    #result = gs.where(x <= a, 0, np.where(x >= b, 1, numerator / denominator))\n",
    "    return fx\n",
    "def generate_sample_tangent_space(base=bp0,n_samples=1,sigma=1): \n",
    "    # generate i.i.d gaussian noise on tangent space \n",
    "    size = (n_samples, d) if n_samples != 1 else (1,d)\n",
    "    X =  np.zeros((n_samples,d))\n",
    "    tangent_vec =  np.zeros((n_samples,d+1))\n",
    "    for i in range(n_samples):\n",
    "        # Generate uniform random variables a_i on [-0.5, 0.5]\n",
    "        a_i_1 = gs.random.uniform(-0.5, 0.5)\n",
    "        a_i_2 = gs.random.uniform(-0.5, 0.5)\n",
    "        # Generate Rademacher variables b_i (values -1 or 1 with equal probability)\n",
    "        b_i_1 = gs.random.choice([-1, 1])/gs.sqrt(12)\n",
    "        b_i_2 = gs.random.choice([-1, 1])/gs.sqrt(12)\n",
    "        \n",
    "        a_i_3 = gs.random.uniform(-0.5, 0.5)\n",
    "        b_i_3 = gs.random.uniform(-0.5, 0.5)\n",
    "        #wi = smooth_step(i/T, a=0.3, b=0.7)\n",
    "        wi =sigmoid(i/n_samples, c=0.5, k=200)\n",
    "        # Calculate the time series for this row\n",
    "        X[i, 3] =0.5*sigma*((wi)**0.5 * a_i_1 + (1 - wi)**0.5 * b_i_1)\n",
    "        X[i, 4] =1.5*sigma*((wi)**0.5 * a_i_2 + (1 - wi)**0.5 * b_i_2)\n",
    "        X[i, 5] =3*sigma*((wi)**0.5 * a_i_3 + (1 - wi)**0.5 * b_i_3)\n",
    "    #sqrt_base_point = gs.linalg.sqrtm(base_point)\n",
    "    tangent_vec[:,:d]=X\n",
    "    return tangent_vec \n",
    "\n",
    "# def generate_sample_tangent_space_rademacher(base=bp0,n_samples=1,sigma=1): \n",
    "#     # generate i.i.d gaussian noise on tangent space \n",
    "#     size = (n_samples, d) if n_samples != 1 else (1,d)\n",
    "    \n",
    "#     tangent_vec_aux = sigma*(gs.random.choice([-1,1],size=size))\n",
    "#     tangent_vec = np.zeros(shape=(n_samples, d+1))\n",
    "#     tangent_vec[:,:d]=tangent_vec_aux\n",
    "#     #sqrt_base_point = gs.linalg.sqrtm(base_point)\n",
    "#     return tangent_vec\n",
    "\n",
    "\n",
    "def generate_random_sample(base=bp0,n_samples=1,sigma=1):\n",
    "    # generate sample with Frechet mean equal the given base point.\n",
    "    tv =  generate_sample_tangent_space(base=base,n_samples=n_samples,sigma=sigma)\n",
    "    return mfd.exp(tangent_vec=tv,base_point=base)\n",
    "\n"
   ]
  },
  {
   "cell_type": "code",
   "execution_count": 8,
   "id": "c3fe9245",
   "metadata": {},
   "outputs": [],
   "source": [
    "#find or basis of T_p\n",
    "def Proj(x):\n",
    "    d = x.shape[0]\n",
    "    y = np.reshape(x,(d,1))\n",
    "    return(np.eye(d)-np.dot(y,y.T))\n",
    "\n",
    "def OR(x):\n",
    "    #return or basis for T_x S\n",
    "    P = Proj(x)\n",
    "    l,u= np.linalg.eig(P)\n",
    "    idx = l>0.001\n",
    "    #np.linalg.eig(P)\n",
    "    return u[:,idx]\n",
    "\n",
    "def coord(residual,x):\n",
    "    E = OR(x)\n",
    "    Y = np.dot(residual,E)\n",
    "    return(Y)\n",
    "\n",
    "def mft(Y):\n",
    "    d = Y.shape[1]\n",
    "    n = Y.shape[0]\n",
    "    l = n//2+1\n",
    "    D  = fft.fft(Y,axis=0)[0:l]/np.sqrt(2*np.pi*n)\n",
    "  \n",
    "    return D\n",
    "    "
   ]
  },
  {
   "cell_type": "code",
   "execution_count": 92,
   "id": "2307339b",
   "metadata": {},
   "outputs": [],
   "source": [
    "# tau_lst = [0]\n",
    "# #T_lst = [256,512,1024]\n",
    "# T_lst = [256,512,1024]\n",
    "# for a in range(len(tau_lst)):\n",
    "#     for b in range(len(T_lst)):\n",
    "#         tau = tau_lst[a]\n",
    "#         T =T_lst[b]# sample size\n",
    "#         m =  8\n",
    "\n",
    "#         n = T // m  # 64\n",
    "#         repli_s =5000\n",
    "#         L = n//2+1\n",
    "#         u = (n * np.arange(m) + n / 2) / T\n",
    "#         omega = 2 * np.pi * np.arange(1, n + 1) / n\n",
    "#         d = 6\n",
    "#         sigma=1.3\n",
    "#        # rho=0.1\n",
    "#         z = np.zeros(repli_s)\n",
    "#         z2 = np.zeros(repli_s)\n",
    "#         for kk in tqdm(range(repli_s)):\n",
    "#             np.random.seed(kk)\n",
    "#             bp0 = np.array([0,0,0,0,0,0,1])\n",
    "#             data =  generate_random_sample(base=bp0,n_samples=T,sigma=sigma)\n",
    "#             fmean = FrechetMean(metric=mfd,max_iter=200000,epsilon=1e-10)\n",
    "#             fmean.fit(data)\n",
    "#             mean1 =fmean.estimate_\n",
    "            \n",
    "#            # mean1 = np.array([0,0,0,0,0,np.sqrt(48/49),1/7])\n",
    "#             residual1=  mfd.log(point=data,base_point=mean1)\n",
    "#             #residual2=  mfd.log(point=data,base_point=mean2)\n",
    "#             xx =coord(residual1,mean1)\n",
    "            \n",
    "#             #xx = ar(rho=0.01, T=T, d=6) for  test in Euclidean \n",
    "\n",
    "#             x = xx - np.mean(xx, axis=0)\n",
    "           \n",
    "#             D_my = np.zeros((m,L,6),dtype=complex)\n",
    "          \n",
    "#             for i in range(m):\n",
    "#                 low = i*n\n",
    "#                 up = (i+1)*n\n",
    "\n",
    "#                 D_my[i] =fft.fft(x[low:up],axis=0)[1:(L+1)]#/ np.sqrt(2 * np.pi * n)\n",
    "               \n",
    "#             D_my_conj = np.conj(D_my)\n",
    "#             D_mynorm = np.mean(np.abs(D_my)**2,axis=2)\n",
    "        \n",
    "#             #  <D(uj,wk),D(uj,wk-1) >  1<=j<=m, 1<=k<= n/2    <m*(n/2)*d, m*(n/2)*d> ---> m*(n/2)\n",
    "#             inner_products = np.mean(D_my_conj[:,0:(L-1),:] * D_my[:, 1:L, :], axis=2)\n",
    "        \n",
    "#             F1hat =  np.sum(np.square(np.abs(inner_products)))/T\n",
    "        \n",
    "#             V = D_my[:, 1:L, :]  # This has the shape (16, 8, 6) #D(u_j,lambda_k) : j=1,...,m, k =1,...,n/2\n",
    "#             V_conj_transpose = np.conj(V)  # This is the complex conjugate \n",
    "        \n",
    "#             V = V[:, :, :, np.newaxis]  # This will have the shape (16, 8, 6, 1)\n",
    "#             V_conj_transpose = V_conj_transpose[:, :, np.newaxis, :] \n",
    "        \n",
    "#                       # Now compute the outer product\n",
    "#             Imat = V * V_conj_transpose/d # I(u_j,lambda_k) : j=1,...,m, k =1,...,n/2\n",
    "\n",
    "#             Ilambda = np.mean(Imat,axis=0) # mean of I over u (n/2)*(d*d)\n",
    "#             Il_sq = np.sum(np.abs(Ilambda)**2,axis=(1,2))#  ||mean of I over u ||_2 : vector in R^m\n",
    "\n",
    "#             F2hat= Il_sq.mean()/2\n",
    "#             Bhat = np.sum(D_mynorm[:,0:(L-1)]*D_mynorm[:,1:L])/T\n",
    "#             mhat = (F1hat-F2hat+Bhat/m)\n",
    "#             #mhat = F1_hat-F2_hat\n",
    "#             vhat =np.sqrt(np.sum(np.mean(np.abs(inner_products)**2,axis=0)**2)/(n-1))\n",
    "#             z[kk] = np.sqrt(T)*mhat/vhat\n",
    "\n",
    "#                         #fmean = FrechetMean(metric=mfd,max_iter=200000,epsilon=1e-10)\n",
    "#             #fmean.fit(data)\n",
    "#             #mean1 =fmean.estimate_\n",
    "            \n",
    "#             mean2 = np.array([0,0,0,gs.sqrt(12/64),2/8,7/8,1/8])\n",
    "#             residual2=  mfd.log(point=data,base_point=mean2)\n",
    "#             #residual2=  mfd.log(point=data,base_point=mean2)\n",
    "#             xx2 =coord(residual2,mean2)\n",
    "            \n",
    "#             #xx = ar(rho=0.01, T=T, d=6) for  test in Euclidean \n",
    "\n",
    "#             x = xx2 - np.mean(xx2, axis=0)\n",
    "           \n",
    "#             D_my = np.zeros((m,L,6),dtype=complex)\n",
    "          \n",
    "#             for i in range(m):\n",
    "#                 low = i*n\n",
    "#                 up = (i+1)*n\n",
    "\n",
    "#                 D_my[i] =fft.fft(x[low:up],axis=0)[1:(L+1)]#/ np.sqrt(2 * np.pi * n)\n",
    "               \n",
    "#             D_my_conj = np.conj(D_my)\n",
    "#             D_mynorm = np.mean(np.abs(D_my)**2,axis=2)\n",
    "        \n",
    "#             #  <D(uj,wk),D(uj,wk-1) >  1<=j<=m, 1<=k<= n/2    <m*(n/2)*d, m*(n/2)*d> ---> m*(n/2)\n",
    "#             inner_products = np.mean(D_my_conj[:,0:(L-1),:] * D_my[:, 1:L, :], axis=2)\n",
    "        \n",
    "#             F1hat =  np.sum(np.square(np.abs(inner_products)))/T\n",
    "        \n",
    "#             V = D_my[:, 1:L, :]  # This has the shape (16, 8, 6) #D(u_j,lambda_k) : j=1,...,m, k =1,...,n/2\n",
    "#             V_conj_transpose = np.conj(V)  # This is the complex conjugate \n",
    "        \n",
    "#             V = V[:, :, :, np.newaxis]  # This will have the shape (16, 8, 6, 1)\n",
    "#             V_conj_transpose = V_conj_transpose[:, :, np.newaxis, :] \n",
    "        \n",
    "#                       # Now compute the outer product\n",
    "#             Imat = V * V_conj_transpose/d # I(u_j,lambda_k) : j=1,...,m, k =1,...,n/2\n",
    "\n",
    "#             Ilambda = np.mean(Imat,axis=0) # mean of I over u (n/2)*(d*d)\n",
    "#             Il_sq = np.sum(np.abs(Ilambda)**2,axis=(1,2))#  ||mean of I over u ||_2 : vector in R^m\n",
    "\n",
    "#             F2hat= Il_sq.mean()/2\n",
    "#             Bhat = np.sum(D_mynorm[:,0:(L-1)]*D_mynorm[:,1:L])/T\n",
    "#             mhat = (F1hat-F2hat+Bhat/m)\n",
    "#             #mhat = F1_hat-F2_hat\n",
    "#             vhat =np.sqrt(np.sum(np.mean(np.abs(inner_products)**2,axis=0)**2)/(n-1))\n",
    "#             z2[kk] = np.sqrt(T)*mhat/vhat\n",
    "\n",
    "\n",
    "#             #vhat2 =np.sqrt(np.sum(np.mean(np.abs(inner_products2)**2,axis=0)**2)/(n-1))\n",
    "            \n",
    "\n",
    "#         #np.save('zval_muhat_sigma_'+str(sigma)+'rho_'+str(rho)+'T_'+str(T)+'m_'+str(m)+'tau_'+str(tau)+'_t1rate.npy',z)\n",
    "#         #np.save('zval_pre_sigma_'+str(sigma)+'rho_'+str(rho)+'T_'+str(T)+'m_'+str(m)+'tau_'+str(tau)+'_t1rate.npy',z2)\n",
    "#         print(np.mean(z>stats.norm.ppf(0.95)),np.mean(z2>stats.norm.ppf(0.95)))\n"
   ]
  },
  {
   "cell_type": "code",
   "execution_count": 10,
   "id": "a1012278",
   "metadata": {},
   "outputs": [
    {
     "name": "stderr",
     "output_type": "stream",
     "text": [
      "/var/folders/xl/kgnxbxpd1tl1dxlkp0qvtb180000gn/T/ipykernel_56517/1532449846.py:67: TqdmDeprecationWarning: This function will be removed in tqdm==5.0.0\n",
      "Please use `tqdm.notebook.tqdm` instead of `tqdm.tqdm_notebook`\n",
      "  for kk in tqdm(range(repli_s)):\n"
     ]
    },
    {
     "data": {
      "application/vnd.jupyter.widget-view+json": {
       "model_id": "71f267270610462bbc76d788e42de55a",
       "version_major": 2,
       "version_minor": 0
      },
      "text/plain": [
       "  0%|          | 0/5000 [00:00<?, ?it/s]"
      ]
     },
     "metadata": {},
     "output_type": "display_data"
    },
    {
     "name": "stdout",
     "output_type": "stream",
     "text": [
      "0.0182 0.091\n"
     ]
    },
    {
     "data": {
      "application/vnd.jupyter.widget-view+json": {
       "model_id": "839685b24fca4e7c95db32b685dacc0c",
       "version_major": 2,
       "version_minor": 0
      },
      "text/plain": [
       "  0%|          | 0/5000 [00:00<?, ?it/s]"
      ]
     },
     "metadata": {},
     "output_type": "display_data"
    },
    {
     "name": "stdout",
     "output_type": "stream",
     "text": [
      "0.0244 0.134\n"
     ]
    },
    {
     "data": {
      "application/vnd.jupyter.widget-view+json": {
       "model_id": "250fcab065b24919b736e6c60d55fc35",
       "version_major": 2,
       "version_minor": 0
      },
      "text/plain": [
       "  0%|          | 0/5000 [00:00<?, ?it/s]"
      ]
     },
     "metadata": {},
     "output_type": "display_data"
    },
    {
     "name": "stdout",
     "output_type": "stream",
     "text": [
      "0.0278 0.2238\n"
     ]
    }
   ],
   "source": [
    "bp0 = np.array([0,0,0,0,0,0,1])\n",
    "c1=1\n",
    "c2=1\n",
    "c3=2\n",
    "def generate_sample_tangent_space(base=bp0,n_samples=1,sigma=1,c1=0.5,c2=1,c3=2.5): \n",
    "    # generate i.i.d gaussian noise on tangent space \n",
    "    size = (n_samples, d) if n_samples != 1 else (1,d)\n",
    "    X =  np.zeros((n_samples,d))\n",
    "    tangent_vec =  np.zeros((n_samples,d+1))\n",
    "    for i in range(n_samples):\n",
    "        # Generate uniform random variables a_i on [-0.5, 0.5]\n",
    "        a_i_1 = gs.random.uniform(-0.5, 0.5)\n",
    "        a_i_2 = gs.random.uniform(-0.5, 0.5)\n",
    "        a_i_3 = gs.random.uniform(-0.5, 0.5)\n",
    "        # Generate Rademacher variables b_i (values -1 or 1 with equal probability)\n",
    "        b_i_1 = gs.random.choice([-1, 1])/gs.sqrt(12)\n",
    "        b_i_2 = gs.random.choice([-1, 1])/gs.sqrt(12)\n",
    "        b_i_3 = gs.random.choice([-1, 1])/gs.sqrt(12)\n",
    "      \n",
    "        \n",
    "        #wi = smooth_step(i/T, a=0.3, b=0.7)\n",
    "        wi =sigmoid(i/n_samples, c=0.5, k=1024)\n",
    "        # Calculate the time series for this row\n",
    "#         X[i, 3] =0.5*sigma*((wi)**0.5 * a_i_1 + (1 - wi)**0.5 * b_i_1)\n",
    "#         X[i, 4] =1*sigma*((wi)**0.5 * a_i_2 + (1 - wi)**0.5 * b_i_2)\n",
    "#         X[i, 5] =3*sigma*((wi)**0.5 * a_i_3 + (1 - wi)**0.5 * b_i_3)\n",
    "        \n",
    "        X[i, 3] =c1*sigma*((wi)**0.5 * a_i_1 + (1 - wi)**0.5 * b_i_1)\n",
    "        X[i, 4] =c2*sigma*((wi)**0.5 * a_i_2 + (1 - wi)**0.5 * b_i_2)\n",
    "        X[i, 5] =c3*sigma*((wi)**0.5 * a_i_3 + (1 - wi)**0.5 * b_i_3)\n",
    "    #sqrt_base_point = gs.linalg.sqrtm(base_point)\n",
    "    tangent_vec[:,:d]=X\n",
    "    return tangent_vec \n",
    "\n",
    "# def generate_sample_tangent_space_rademacher(base=bp0,n_samples=1,sigma=1): \n",
    "#     # generate i.i.d gaussian noise on tangent space \n",
    "#     size = (n_samples, d) if n_samples != 1 else (1,d)\n",
    "    \n",
    "#     tangent_vec_aux = sigma*(gs.random.choice([-1,1],size=size))\n",
    "#     tangent_vec = np.zeros(shape=(n_samples, d+1))\n",
    "#     tangent_vec[:,:d]=tangent_vec_aux\n",
    "#     #sqrt_base_point = gs.linalg.sqrtm(base_point)\n",
    "#     return tangent_vec\n",
    "\n",
    "\n",
    "def generate_random_sample(base=bp0,n_samples=1,sigma=1):\n",
    "    # generate sample with Frechet mean equal the given base point.\n",
    "    tv =  generate_sample_tangent_space(base=base,n_samples=n_samples,sigma=sigma)\n",
    "    return mfd.exp(tangent_vec=tv,base_point=base)\n",
    "\n",
    "T_lst = [256,512,1024]\n",
    "\n",
    "for b in range(len(T_lst)):\n",
    "    T =T_lst[b]# sample size\n",
    "    m =  8\n",
    "\n",
    "    n = T // m  # 64\n",
    "    repli_s =5000\n",
    "    L = n//2+1\n",
    "    u = (n * np.arange(m) + n / 2) / T\n",
    "    omega = 2 * np.pi * np.arange(1, n + 1) / n\n",
    "    d = 6\n",
    "    sigma=1.4\n",
    "    # rho=0.1\n",
    "    z = np.zeros(repli_s)\n",
    "    z2 = np.zeros(repli_s)\n",
    "    for kk in tqdm(range(repli_s)):\n",
    "    #kk=0\n",
    "        gs.random.seed(kk)\n",
    "        bp0 = np.array([0,0,0,0,0,0,1])\n",
    "        data =  generate_random_sample(base=bp0,n_samples=T,sigma=sigma)\n",
    "        fmean = FrechetMean(metric=mfd,max_iter=200000,epsilon=1e-10)\n",
    "        fmean.fit(data)\n",
    "        #mean1 =bp0\n",
    "        mean1 =fmean.estimate_\n",
    "        # mean1 = np.array([0,0,0,0,0,np.sqrt(48/49),1/7])\n",
    "        residual1=  mfd.log(point=data,base_point=mean1)\n",
    "        #residual2=  mfd.log(point=data,base_point=mean2)\n",
    "        xx =coord(residual1,mean1)\n",
    "\n",
    "        #xx = ar(rho=0.01, T=T, d=6) for  test in Euclidean \n",
    "\n",
    "        x = xx - np.mean(xx, axis=0)\n",
    "\n",
    "        D_my = np.zeros((m,L,6),dtype=complex)\n",
    "\n",
    "        for i in range(m):\n",
    "            low = i*n\n",
    "            up = (i+1)*n\n",
    "\n",
    "            D_my[i] =fft.fft(x[low:up],axis=0)[1:(L+1)]#/ np.sqrt(2 * np.pi * n)\n",
    "\n",
    "        D_my_conj = np.conj(D_my)\n",
    "        D_mynorm = np.mean(np.abs(D_my)**2,axis=2)\n",
    "\n",
    "        #  <D(uj,wk),D(uj,wk-1) >  1<=j<=m, 1<=k<= n/2    <m*(n/2)*d, m*(n/2)*d> ---> m*(n/2)\n",
    "        inner_products = np.mean(D_my_conj[:,0:(L-1),:] * D_my[:, 1:L, :], axis=2)\n",
    "\n",
    "        F1hat =  np.sum(np.square(np.abs(inner_products)))/T\n",
    "\n",
    "        V = D_my[:, 1:L, :]  # This has the shape (16, 8, 6) #D(u_j,lambda_k) : j=1,...,m, k =1,...,n/2\n",
    "        V_conj_transpose = np.conj(V)  # This is the complex conjugate \n",
    "\n",
    "        V = V[:, :, :, np.newaxis]  # This will have the shape (16, 8, 6, 1)\n",
    "        V_conj_transpose = V_conj_transpose[:, :, np.newaxis, :] \n",
    "\n",
    "                  # Now compute the outer product\n",
    "        Imat = V * V_conj_transpose/d # I(u_j,lambda_k) : j=1,...,m, k =1,...,n/2\n",
    "\n",
    "        Ilambda = np.mean(Imat,axis=0) # mean of I over u (n/2)*(d*d)\n",
    "        Il_sq = np.sum(np.abs(Ilambda)**2,axis=(1,2))#  ||mean of I over u ||_2 : vector in R^m\n",
    "\n",
    "        F2hat= Il_sq.mean()/2\n",
    "        Bhat = np.sum(D_mynorm[:,0:(L-1)]*D_mynorm[:,1:L])/T\n",
    "        mhat = (F1hat-F2hat+Bhat/m)\n",
    "        #mhat = F1_hat-F2_hat\n",
    "        vhat =np.sqrt(np.sum(np.mean(np.abs(inner_products)**2,axis=0)**2)/(n-1))\n",
    "        z[kk] = np.sqrt(T)*mhat/vhat\n",
    "\n",
    "                    #fmean = FrechetMean(metric=mfd,max_iter=200000,epsilon=1e-10)\n",
    "        #fmean.fit(data)\n",
    "        #mean1 =fmean.estimate_\n",
    "\n",
    "        mean2 = np.array([0,0,0,gs.sqrt(10/64),2/8,7/8,1/8])\n",
    "        residual2=  mfd.log(point=data,base_point=mean2)\n",
    "        #residual2=  mfd.log(point=data,base_point=mean2)\n",
    "        xx2 =coord(residual2,mean2)\n",
    "\n",
    "        #xx = ar(rho=0.01, T=T, d=6) for  test in Euclidean \n",
    "\n",
    "        x = xx2 - np.mean(xx2, axis=0)\n",
    "\n",
    "        D_my = np.zeros((m,L,6),dtype=complex)\n",
    "\n",
    "        for i in range(m):\n",
    "            low = i*n\n",
    "            up = (i+1)*n\n",
    "\n",
    "            D_my[i] =fft.fft(x[low:up],axis=0)[1:(L+1)]#/ np.sqrt(2 * np.pi * n)\n",
    "\n",
    "        D_my_conj = np.conj(D_my)\n",
    "        D_mynorm = np.mean(np.abs(D_my)**2,axis=2)\n",
    "\n",
    "        #  <D(uj,wk),D(uj,wk-1) >  1<=j<=m, 1<=k<= n/2    <m*(n/2)*d, m*(n/2)*d> ---> m*(n/2)\n",
    "        inner_products = np.mean(D_my_conj[:,0:(L-1),:] * D_my[:, 1:L, :], axis=2)\n",
    "\n",
    "        F1hat =  np.sum(np.square(np.abs(inner_products)))/T\n",
    "\n",
    "        V = D_my[:, 1:L, :]  # This has the shape (16, 8, 6) #D(u_j,lambda_k) : j=1,...,m, k =1,...,n/2\n",
    "        V_conj_transpose = np.conj(V)  # This is the complex conjugate \n",
    "\n",
    "        V = V[:, :, :, np.newaxis]  # This will have the shape (16, 8, 6, 1)\n",
    "        V_conj_transpose = V_conj_transpose[:, :, np.newaxis, :] \n",
    "\n",
    "                  # Now compute the outer product\n",
    "        Imat = V * V_conj_transpose/d # I(u_j,lambda_k) : j=1,...,m, k =1,...,n/2\n",
    "\n",
    "        Ilambda = np.mean(Imat,axis=0) # mean of I over u (n/2)*(d*d)\n",
    "        Il_sq = np.sum(np.abs(Ilambda)**2,axis=(1,2))#  ||mean of I over u ||_2 : vector in R^m\n",
    "\n",
    "        F2hat= Il_sq.mean()/2\n",
    "        Bhat = np.sum(D_mynorm[:,0:(L-1)]*D_mynorm[:,1:L])/T\n",
    "        mhat = (F1hat-F2hat+Bhat/m)\n",
    "        #mhat = F1_hat-F2_hat\n",
    "        vhat =np.sqrt(np.sum(np.mean(np.abs(inner_products)**2,axis=0)**2)/(n-1))\n",
    "        z2[kk] = np.sqrt(T)*mhat/vhat\n",
    "        np.save('zval_muhat_sigma_'+str(sigma)+'T_'+str(T)+'m_'+str(m)+'C_'+str(c1)+str(c2)+str(c3)+'_t1rate.npy',z)\n",
    "        np.save('zval_pre_sigma_'+str(sigma)+'T_'+str(T)+'m_'+str(m)+'C_'+str(c1)+str(c2)+str(c3)+'_t1rate.npy',z2)\n",
    "    print(np.mean(z>stats.norm.ppf(0.95)),np.mean(z2>stats.norm.ppf(0.95)))\n"
   ]
  },
  {
   "cell_type": "code",
   "execution_count": 9,
   "id": "2a3ffec0",
   "metadata": {},
   "outputs": [
    {
     "name": "stderr",
     "output_type": "stream",
     "text": [
      "/var/folders/xl/kgnxbxpd1tl1dxlkp0qvtb180000gn/T/ipykernel_33293/102757216.py:67: TqdmDeprecationWarning: This function will be removed in tqdm==5.0.0\n",
      "Please use `tqdm.notebook.tqdm` instead of `tqdm.tqdm_notebook`\n",
      "  for kk in tqdm(range(repli_s)):\n"
     ]
    },
    {
     "data": {
      "application/vnd.jupyter.widget-view+json": {
       "model_id": "010d988ddf91476790aa61f11fc193b8",
       "version_major": 2,
       "version_minor": 0
      },
      "text/plain": [
       "  0%|          | 0/5000 [00:00<?, ?it/s]"
      ]
     },
     "metadata": {},
     "output_type": "display_data"
    },
    {
     "name": "stdout",
     "output_type": "stream",
     "text": [
      "0.0208\n"
     ]
    },
    {
     "data": {
      "application/vnd.jupyter.widget-view+json": {
       "model_id": "fa006b2ca7e14bd78a0273eadf232e4e",
       "version_major": 2,
       "version_minor": 0
      },
      "text/plain": [
       "  0%|          | 0/5000 [00:00<?, ?it/s]"
      ]
     },
     "metadata": {},
     "output_type": "display_data"
    },
    {
     "name": "stdout",
     "output_type": "stream",
     "text": [
      "0.0234\n"
     ]
    },
    {
     "data": {
      "application/vnd.jupyter.widget-view+json": {
       "model_id": "c5fc0394250f49838633ee337d800f0d",
       "version_major": 2,
       "version_minor": 0
      },
      "text/plain": [
       "  0%|          | 0/5000 [00:00<?, ?it/s]"
      ]
     },
     "metadata": {},
     "output_type": "display_data"
    },
    {
     "name": "stdout",
     "output_type": "stream",
     "text": [
      "0.0308\n"
     ]
    }
   ],
   "source": [
    "\n",
    "##### Applied to the true mean....\n",
    "bp0 = np.array([0,0,0,0,0,0,1])\n",
    "c1=1\n",
    "c2=1\n",
    "c3=2\n",
    "def generate_sample_tangent_space(base=bp0,n_samples=1,sigma=1,c1=0.5,c2=1,c3=2.5): \n",
    "    # generate i.i.d gaussian noise on tangent space \n",
    "    size = (n_samples, d) if n_samples != 1 else (1,d)\n",
    "    X =  np.zeros((n_samples,d))\n",
    "    tangent_vec =  np.zeros((n_samples,d+1))\n",
    "    for i in range(n_samples):\n",
    "        # Generate uniform random variables a_i on [-0.5, 0.5]\n",
    "        a_i_1 = gs.random.uniform(-0.5, 0.5)\n",
    "        a_i_2 = gs.random.uniform(-0.5, 0.5)\n",
    "        a_i_3 = gs.random.uniform(-0.5, 0.5)\n",
    "        # Generate Rademacher variables b_i (values -1 or 1 with equal probability)\n",
    "        b_i_1 = gs.random.choice([-1, 1])/gs.sqrt(12)\n",
    "        b_i_2 = gs.random.choice([-1, 1])/gs.sqrt(12)\n",
    "        b_i_3 = gs.random.choice([-1, 1])/gs.sqrt(12)\n",
    "      \n",
    "        \n",
    "        #wi = smooth_step(i/T, a=0.3, b=0.7)\n",
    "        wi =sigmoid(i/n_samples, c=0.5, k=1024)\n",
    "        # Calculate the time series for this row\n",
    "#         X[i, 3] =0.5*sigma*((wi)**0.5 * a_i_1 + (1 - wi)**0.5 * b_i_1)\n",
    "#         X[i, 4] =1*sigma*((wi)**0.5 * a_i_2 + (1 - wi)**0.5 * b_i_2)\n",
    "#         X[i, 5] =3*sigma*((wi)**0.5 * a_i_3 + (1 - wi)**0.5 * b_i_3)\n",
    "        \n",
    "        X[i, 3] =c1*sigma*((wi)**0.5 * a_i_1 + (1 - wi)**0.5 * b_i_1)\n",
    "        X[i, 4] =c2*sigma*((wi)**0.5 * a_i_2 + (1 - wi)**0.5 * b_i_2)\n",
    "        X[i, 5] =c3*sigma*((wi)**0.5 * a_i_3 + (1 - wi)**0.5 * b_i_3)\n",
    "    #sqrt_base_point = gs.linalg.sqrtm(base_point)\n",
    "    tangent_vec[:,:d]=X\n",
    "    return tangent_vec \n",
    "\n",
    "# def generate_sample_tangent_space_rademacher(base=bp0,n_samples=1,sigma=1): \n",
    "#     # generate i.i.d gaussian noise on tangent space \n",
    "#     size = (n_samples, d) if n_samples != 1 else (1,d)\n",
    "    \n",
    "#     tangent_vec_aux = sigma*(gs.random.choice([-1,1],size=size))\n",
    "#     tangent_vec = np.zeros(shape=(n_samples, d+1))\n",
    "#     tangent_vec[:,:d]=tangent_vec_aux\n",
    "#     #sqrt_base_point = gs.linalg.sqrtm(base_point)\n",
    "#     return tangent_vec\n",
    "\n",
    "\n",
    "def generate_random_sample(base=bp0,n_samples=1,sigma=1):\n",
    "    # generate sample with Frechet mean equal the given base point.\n",
    "    tv =  generate_sample_tangent_space(base=base,n_samples=n_samples,sigma=sigma)\n",
    "    return mfd.exp(tangent_vec=tv,base_point=base)\n",
    "\n",
    "T_lst = [256,512,1024]\n",
    "\n",
    "for b in range(len(T_lst)):\n",
    "    T =T_lst[b]# sample size\n",
    "    m =  8\n",
    "\n",
    "    n = T // m  # 64\n",
    "    repli_s =5000\n",
    "    L = n//2+1\n",
    "    u = (n * np.arange(m) + n / 2) / T\n",
    "    omega = 2 * np.pi * np.arange(1, n + 1) / n\n",
    "    d = 6\n",
    "    sigma=1.4\n",
    "    # rho=0.1\n",
    "    z3 = np.zeros(repli_s)\n",
    "   # z2 = np.zeros(repli_s)\n",
    "    for kk in tqdm(range(repli_s)):\n",
    "    #kk=0\n",
    "        gs.random.seed(kk)\n",
    "        bp0 = np.array([0,0,0,0,0,0,1])\n",
    "        data =  generate_random_sample(base=bp0,n_samples=T,sigma=sigma)\n",
    "        fmean = FrechetMean(metric=mfd,max_iter=200000,epsilon=1e-10)\n",
    "        fmean.fit(data)\n",
    "        mean1 =bp0\n",
    "        #mean1 =fmean.estimate_\n",
    "        # mean1 = np.array([0,0,0,0,0,np.sqrt(48/49),1/7])\n",
    "        residual1=  mfd.log(point=data,base_point=mean1)\n",
    "        #residual2=  mfd.log(point=data,base_point=mean2)\n",
    "        xx =coord(residual1,mean1)\n",
    "\n",
    "        #xx = ar(rho=0.01, T=T, d=6) for  test in Euclidean \n",
    "\n",
    "        x = xx - np.mean(xx, axis=0)\n",
    "\n",
    "        D_my = np.zeros((m,L,6),dtype=complex)\n",
    "\n",
    "        for i in range(m):\n",
    "            low = i*n\n",
    "            up = (i+1)*n\n",
    "\n",
    "            D_my[i] =fft.fft(x[low:up],axis=0)[1:(L+1)]#/ np.sqrt(2 * np.pi * n)\n",
    "\n",
    "        D_my_conj = np.conj(D_my)\n",
    "        D_mynorm = np.mean(np.abs(D_my)**2,axis=2)\n",
    "\n",
    "        #  <D(uj,wk),D(uj,wk-1) >  1<=j<=m, 1<=k<= n/2    <m*(n/2)*d, m*(n/2)*d> ---> m*(n/2)\n",
    "        inner_products = np.mean(D_my_conj[:,0:(L-1),:] * D_my[:, 1:L, :], axis=2)\n",
    "\n",
    "        F1hat =  np.sum(np.square(np.abs(inner_products)))/T\n",
    "\n",
    "        V = D_my[:, 1:L, :]  # This has the shape (16, 8, 6) #D(u_j,lambda_k) : j=1,...,m, k =1,...,n/2\n",
    "        V_conj_transpose = np.conj(V)  # This is the complex conjugate \n",
    "\n",
    "        V = V[:, :, :, np.newaxis]  # This will have the shape (16, 8, 6, 1)\n",
    "        V_conj_transpose = V_conj_transpose[:, :, np.newaxis, :] \n",
    "\n",
    "                  # Now compute the outer product\n",
    "        Imat = V * V_conj_transpose/d # I(u_j,lambda_k) : j=1,...,m, k =1,...,n/2\n",
    "\n",
    "        Ilambda = np.mean(Imat,axis=0) # mean of I over u (n/2)*(d*d)\n",
    "        Il_sq = np.sum(np.abs(Ilambda)**2,axis=(1,2))#  ||mean of I over u ||_2 : vector in R^m\n",
    "\n",
    "        F2hat= Il_sq.mean()/2\n",
    "        Bhat = np.sum(D_mynorm[:,0:(L-1)]*D_mynorm[:,1:L])/T\n",
    "        mhat = (F1hat-F2hat+Bhat/m)\n",
    "        #mhat = F1_hat-F2_hat\n",
    "        vhat =np.sqrt(np.sum(np.mean(np.abs(inner_products)**2,axis=0)**2)/(n-1))\n",
    "        z3[kk] = np.sqrt(T)*mhat/vhat\n",
    "\n",
    "                    #fmean = FrechetMean(metric=mfd,max_iter=200000,epsilon=1e-10)\n",
    "        #fmean.fit(data)\n",
    "        #mean1 =fmean.estimate_\n",
    "\n",
    "\n",
    "\n",
    "   \n",
    "        np.save('zval_mutrue_sigma_'+str(sigma)+'T_'+str(T)+'m_'+str(m)+'C_'+str(c1)+str(c2)+str(c3)+'_t1rate.npy',z3)\n",
    "        #np.save('zval_pre_sigma_'+str(sigma)+'T_'+str(T)+'m_'+str(m)+'C_'+str(c1)+str(c2)+str(c3)+'_t1rate.npy',z2)\n",
    "    print(np.mean(z3>stats.norm.ppf(0.95)))\n"
   ]
  },
  {
   "cell_type": "code",
   "execution_count": 100,
   "id": "4f13fc36",
   "metadata": {},
   "outputs": [
    {
     "name": "stderr",
     "output_type": "stream",
     "text": [
      "/var/folders/xl/kgnxbxpd1tl1dxlkp0qvtb180000gn/T/ipykernel_45455/404206511.py:67: TqdmDeprecationWarning: This function will be removed in tqdm==5.0.0\n",
      "Please use `tqdm.notebook.tqdm` instead of `tqdm.tqdm_notebook`\n",
      "  for kk in tqdm(range(repli_s)):\n"
     ]
    },
    {
     "data": {
      "application/vnd.jupyter.widget-view+json": {
       "model_id": "31c0602ceeef450fa3eaca5708ca8cf3",
       "version_major": 2,
       "version_minor": 0
      },
      "text/plain": [
       "  0%|          | 0/5000 [00:00<?, ?it/s]"
      ]
     },
     "metadata": {},
     "output_type": "display_data"
    },
    {
     "name": "stdout",
     "output_type": "stream",
     "text": [
      "0.0178 0.0684\n"
     ]
    },
    {
     "data": {
      "application/vnd.jupyter.widget-view+json": {
       "model_id": "b8153b0aed6848ad81e31a7a859704a5",
       "version_major": 2,
       "version_minor": 0
      },
      "text/plain": [
       "  0%|          | 0/5000 [00:00<?, ?it/s]"
      ]
     },
     "metadata": {},
     "output_type": "display_data"
    },
    {
     "name": "stdout",
     "output_type": "stream",
     "text": [
      "0.0228 0.1042\n"
     ]
    },
    {
     "data": {
      "application/vnd.jupyter.widget-view+json": {
       "model_id": "2060fd428db74b9792eb75485092099f",
       "version_major": 2,
       "version_minor": 0
      },
      "text/plain": [
       "  0%|          | 0/5000 [00:00<?, ?it/s]"
      ]
     },
     "metadata": {},
     "output_type": "display_data"
    },
    {
     "name": "stdout",
     "output_type": "stream",
     "text": [
      "0.0298 0.1644\n"
     ]
    }
   ],
   "source": [
    "bp0 = np.array([0,0,0,0,0,0,1])\n",
    "c1=1\n",
    "c2=1\n",
    "c3=2\n",
    "def generate_sample_tangent_space(base=bp0,n_samples=1,sigma=1,c1=0.5,c2=1,c3=2.5): \n",
    "    # generate i.i.d gaussian noise on tangent space \n",
    "    size = (n_samples, d) if n_samples != 1 else (1,d)\n",
    "    X =  np.zeros((n_samples,d))\n",
    "    tangent_vec =  np.zeros((n_samples,d+1))\n",
    "    for i in range(n_samples):\n",
    "        # Generate uniform random variables a_i on [-0.5, 0.5]\n",
    "        a_i_1 = gs.random.uniform(-0.5, 0.5)\n",
    "        a_i_2 = gs.random.uniform(-0.5, 0.5)\n",
    "        a_i_3 = gs.random.uniform(-0.5, 0.5)\n",
    "        # Generate Rademacher variables b_i (values -1 or 1 with equal probability)\n",
    "        b_i_1 = gs.random.choice([-1, 1])/gs.sqrt(12)\n",
    "        b_i_2 = gs.random.choice([-1, 1])/gs.sqrt(12)\n",
    "        b_i_3 = gs.random.choice([-1, 1])/gs.sqrt(12)\n",
    "      \n",
    "        \n",
    "        #wi = smooth_step(i/T, a=0.3, b=0.7)\n",
    "        wi =sigmoid(i/n_samples, c=0.5, k=1024)\n",
    "        # Calculate the time series for this row\n",
    "#         X[i, 3] =0.5*sigma*((wi)**0.5 * a_i_1 + (1 - wi)**0.5 * b_i_1)\n",
    "#         X[i, 4] =1*sigma*((wi)**0.5 * a_i_2 + (1 - wi)**0.5 * b_i_2)\n",
    "#         X[i, 5] =3*sigma*((wi)**0.5 * a_i_3 + (1 - wi)**0.5 * b_i_3)\n",
    "        \n",
    "        X[i, 3] =c1*sigma*((wi)**0.5 * a_i_1 + (1 - wi)**0.5 * b_i_1)\n",
    "        X[i, 4] =c2*sigma*((wi)**0.5 * a_i_2 + (1 - wi)**0.5 * b_i_2)\n",
    "        X[i, 5] =c3*sigma*((wi)**0.5 * a_i_3 + (1 - wi)**0.5 * b_i_3)\n",
    "    #sqrt_base_point = gs.linalg.sqrtm(base_point)\n",
    "    tangent_vec[:,:d]=X\n",
    "    return tangent_vec \n",
    "\n",
    "# def generate_sample_tangent_space_rademacher(base=bp0,n_samples=1,sigma=1): \n",
    "#     # generate i.i.d gaussian noise on tangent space \n",
    "#     size = (n_samples, d) if n_samples != 1 else (1,d)\n",
    "    \n",
    "#     tangent_vec_aux = sigma*(gs.random.choice([-1,1],size=size))\n",
    "#     tangent_vec = np.zeros(shape=(n_samples, d+1))\n",
    "#     tangent_vec[:,:d]=tangent_vec_aux\n",
    "#     #sqrt_base_point = gs.linalg.sqrtm(base_point)\n",
    "#     return tangent_vec\n",
    "\n",
    "\n",
    "def generate_random_sample(base=bp0,n_samples=1,sigma=1):\n",
    "    # generate sample with Frechet mean equal the given base point.\n",
    "    tv =  generate_sample_tangent_space(base=base,n_samples=n_samples,sigma=sigma)\n",
    "    return mfd.exp(tangent_vec=tv,base_point=base)\n",
    "\n",
    "T_lst = [256,512,1024]\n",
    "\n",
    "for b in range(len(T_lst)):\n",
    "    T =T_lst[b]# sample size\n",
    "    m =  8\n",
    "\n",
    "    n = T // m  # 64\n",
    "    repli_s =5000\n",
    "    L = n//2+1\n",
    "    u = (n * np.arange(m) + n / 2) / T\n",
    "    omega = 2 * np.pi * np.arange(1, n + 1) / n\n",
    "    d = 6\n",
    "    sigma=1.35\n",
    "    # rho=0.1\n",
    "    z = np.zeros(repli_s)\n",
    "    z2 = np.zeros(repli_s)\n",
    "    for kk in tqdm(range(repli_s)):\n",
    "    #kk=0\n",
    "        gs.random.seed(kk)\n",
    "        bp0 = np.array([0,0,0,0,0,0,1])\n",
    "        data =  generate_random_sample(base=bp0,n_samples=T,sigma=sigma)\n",
    "        fmean = FrechetMean(metric=mfd,max_iter=200000,epsilon=1e-10)\n",
    "        fmean.fit(data)\n",
    "        #mean1 =bp0\n",
    "        mean1 =fmean.estimate_\n",
    "        # mean1 = np.array([0,0,0,0,0,np.sqrt(48/49),1/7])\n",
    "        residual1=  mfd.log(point=data,base_point=mean1)\n",
    "        #residual2=  mfd.log(point=data,base_point=mean2)\n",
    "        xx =coord(residual1,mean1)\n",
    "\n",
    "        #xx = ar(rho=0.01, T=T, d=6) for  test in Euclidean \n",
    "\n",
    "        x = xx - np.mean(xx, axis=0)\n",
    "\n",
    "        D_my = np.zeros((m,L,6),dtype=complex)\n",
    "\n",
    "        for i in range(m):\n",
    "            low = i*n\n",
    "            up = (i+1)*n\n",
    "\n",
    "            D_my[i] =fft.fft(x[low:up],axis=0)[1:(L+1)]#/ np.sqrt(2 * np.pi * n)\n",
    "\n",
    "        D_my_conj = np.conj(D_my)\n",
    "        D_mynorm = np.mean(np.abs(D_my)**2,axis=2)\n",
    "\n",
    "        #  <D(uj,wk),D(uj,wk-1) >  1<=j<=m, 1<=k<= n/2    <m*(n/2)*d, m*(n/2)*d> ---> m*(n/2)\n",
    "        inner_products = np.mean(D_my_conj[:,0:(L-1),:] * D_my[:, 1:L, :], axis=2)\n",
    "\n",
    "        F1hat =  np.sum(np.square(np.abs(inner_products)))/T\n",
    "\n",
    "        V = D_my[:, 1:L, :]  # This has the shape (16, 8, 6) #D(u_j,lambda_k) : j=1,...,m, k =1,...,n/2\n",
    "        V_conj_transpose = np.conj(V)  # This is the complex conjugate \n",
    "\n",
    "        V = V[:, :, :, np.newaxis]  # This will have the shape (16, 8, 6, 1)\n",
    "        V_conj_transpose = V_conj_transpose[:, :, np.newaxis, :] \n",
    "\n",
    "                  # Now compute the outer product\n",
    "        Imat = V * V_conj_transpose/d # I(u_j,lambda_k) : j=1,...,m, k =1,...,n/2\n",
    "\n",
    "        Ilambda = np.mean(Imat,axis=0) # mean of I over u (n/2)*(d*d)\n",
    "        Il_sq = np.sum(np.abs(Ilambda)**2,axis=(1,2))#  ||mean of I over u ||_2 : vector in R^m\n",
    "\n",
    "        F2hat= Il_sq.mean()/2\n",
    "        Bhat = np.sum(D_mynorm[:,0:(L-1)]*D_mynorm[:,1:L])/T\n",
    "        mhat = (F1hat-F2hat+Bhat/m)\n",
    "        #mhat = F1_hat-F2_hat\n",
    "        vhat =np.sqrt(np.sum(np.mean(np.abs(inner_products)**2,axis=0)**2)/(n-1))\n",
    "        z[kk] = np.sqrt(T)*mhat/vhat\n",
    "\n",
    "                    #fmean = FrechetMean(metric=mfd,max_iter=200000,epsilon=1e-10)\n",
    "        #fmean.fit(data)\n",
    "        #mean1 =fmean.estimate_\n",
    "\n",
    "        mean2 = np.array([0,0,0,gs.sqrt(10/64),2/8,7/8,1/8])\n",
    "        residual2=  mfd.log(point=data,base_point=mean2)\n",
    "        #residual2=  mfd.log(point=data,base_point=mean2)\n",
    "        xx2 =coord(residual2,mean2)\n",
    "\n",
    "        #xx = ar(rho=0.01, T=T, d=6) for  test in Euclidean \n",
    "\n",
    "        x = xx2 - np.mean(xx2, axis=0)\n",
    "\n",
    "        D_my = np.zeros((m,L,6),dtype=complex)\n",
    "\n",
    "        for i in range(m):\n",
    "            low = i*n\n",
    "            up = (i+1)*n\n",
    "\n",
    "            D_my[i] =fft.fft(x[low:up],axis=0)[1:(L+1)]#/ np.sqrt(2 * np.pi * n)\n",
    "\n",
    "        D_my_conj = np.conj(D_my)\n",
    "        D_mynorm = np.mean(np.abs(D_my)**2,axis=2)\n",
    "\n",
    "        #  <D(uj,wk),D(uj,wk-1) >  1<=j<=m, 1<=k<= n/2    <m*(n/2)*d, m*(n/2)*d> ---> m*(n/2)\n",
    "        inner_products = np.mean(D_my_conj[:,0:(L-1),:] * D_my[:, 1:L, :], axis=2)\n",
    "\n",
    "        F1hat =  np.sum(np.square(np.abs(inner_products)))/T\n",
    "\n",
    "        V = D_my[:, 1:L, :]  # This has the shape (16, 8, 6) #D(u_j,lambda_k) : j=1,...,m, k =1,...,n/2\n",
    "        V_conj_transpose = np.conj(V)  # This is the complex conjugate \n",
    "\n",
    "        V = V[:, :, :, np.newaxis]  # This will have the shape (16, 8, 6, 1)\n",
    "        V_conj_transpose = V_conj_transpose[:, :, np.newaxis, :] \n",
    "\n",
    "                  # Now compute the outer product\n",
    "        Imat = V * V_conj_transpose/d # I(u_j,lambda_k) : j=1,...,m, k =1,...,n/2\n",
    "\n",
    "        Ilambda = np.mean(Imat,axis=0) # mean of I over u (n/2)*(d*d)\n",
    "        Il_sq = np.sum(np.abs(Ilambda)**2,axis=(1,2))#  ||mean of I over u ||_2 : vector in R^m\n",
    "\n",
    "        F2hat= Il_sq.mean()/2\n",
    "        Bhat = np.sum(D_mynorm[:,0:(L-1)]*D_mynorm[:,1:L])/T\n",
    "        mhat = (F1hat-F2hat+Bhat/m)\n",
    "        #mhat = F1_hat-F2_hat\n",
    "        vhat =np.sqrt(np.sum(np.mean(np.abs(inner_products)**2,axis=0)**2)/(n-1))\n",
    "        z2[kk] = np.sqrt(T)*mhat/vhat\n",
    "        np.save('zval_muhat_sigma_'+str(sigma)+'T_'+str(T)+'m_'+str(m)+'C_'+str(c1)+str(c2)+str(c3)+'_t1rate.npy',z)\n",
    "        np.save('zval_pre_sigma_'+str(sigma)+'T_'+str(T)+'m_'+str(m)+'C_'+str(c1)+str(c2)+str(c3)+'_t1rate.npy',z2)\n",
    "    print(np.mean(z>stats.norm.ppf(0.95)),np.mean(z2>stats.norm.ppf(0.95)))\n"
   ]
  },
  {
   "cell_type": "code",
   "execution_count": 31,
   "id": "7883ddb4",
   "metadata": {},
   "outputs": [
    {
     "data": {
      "text/plain": [
       "1.2092305529583534"
      ]
     },
     "execution_count": 31,
     "metadata": {},
     "output_type": "execute_result"
    }
   ],
   "source": [
    "np.sqrt(np.max(np.sum(xx**2,axis=1)))/(np.pi/2)"
   ]
  },
  {
   "cell_type": "code",
   "execution_count": 26,
   "id": "0cb3ed46",
   "metadata": {},
   "outputs": [
    {
     "data": {
      "text/plain": [
       "1.5707963267948966"
      ]
     },
     "execution_count": 26,
     "metadata": {},
     "output_type": "execute_result"
    }
   ],
   "source": [
    "np.pi/2"
   ]
  },
  {
   "cell_type": "code",
   "execution_count": 521,
   "id": "12b0f8fc",
   "metadata": {},
   "outputs": [],
   "source": [
    "mean2 =np.array([0,0,0,gs.sqrt(10/64),2/8,7/8,1/8])"
   ]
  },
  {
   "cell_type": "code",
   "execution_count": 480,
   "id": "6b7d5c01",
   "metadata": {},
   "outputs": [
    {
     "data": {
      "text/plain": [
       "(array([0.        , 0.        , 0.        , 0.04695474, 0.18815606,\n",
       "        1.67842077]),\n",
       " array([0.        , 0.        , 0.        , 0.0457762 , 0.19014569,\n",
       "        1.72123378]))"
      ]
     },
     "execution_count": 480,
     "metadata": {},
     "output_type": "execute_result"
    }
   ],
   "source": [
    "np.var(xx[0:512,:],axis=0), np.var(xx[512:,:],axis=0)"
   ]
  },
  {
   "cell_type": "code",
   "execution_count": 439,
   "id": "2ca6028d",
   "metadata": {},
   "outputs": [
    {
     "data": {
      "text/plain": [
       "(array([0.41008628, 1.25833964, 0.88948053, 0.        , 0.        ,\n",
       "        0.        ]),\n",
       " array([0.32521393, 1.23696178, 0.83941973, 0.        , 0.        ,\n",
       "        0.        ]))"
      ]
     },
     "execution_count": 439,
     "metadata": {},
     "output_type": "execute_result"
    }
   ],
   "source": [
    "np.var(xx2[0:512,:],axis=0), np.var(xx2[512:,:],axis=0)"
   ]
  },
  {
   "cell_type": "code",
   "execution_count": 85,
   "id": "bd51ce96",
   "metadata": {},
   "outputs": [
    {
     "data": {
      "text/plain": [
       "[<matplotlib.lines.Line2D at 0x7f8f5beab130>,\n",
       " <matplotlib.lines.Line2D at 0x7f8f5beab190>,\n",
       " <matplotlib.lines.Line2D at 0x7f8f5beab2b0>,\n",
       " <matplotlib.lines.Line2D at 0x7f8f5beab3d0>,\n",
       " <matplotlib.lines.Line2D at 0x7f8f5beab4f0>,\n",
       " <matplotlib.lines.Line2D at 0x7f8f5beab610>]"
      ]
     },
     "execution_count": 85,
     "metadata": {},
     "output_type": "execute_result"
    },
    {
     "data": {
      "image/png": "[encoded data removed]",
      "text/plain": [
       "<Figure size 432x288 with 1 Axes>"
      ]
     },
     "metadata": {
      "needs_background": "light"
     },
     "output_type": "display_data"
    }
   ],
   "source": [
    "plt.plot(xx)"
   ]
  },
  {
   "cell_type": "code",
   "execution_count": 86,
   "id": "9c2d31a5",
   "metadata": {},
   "outputs": [
    {
     "data": {
      "text/plain": [
       "[<matplotlib.lines.Line2D at 0x7f8f496d20a0>,\n",
       " <matplotlib.lines.Line2D at 0x7f8f496d2160>,\n",
       " <matplotlib.lines.Line2D at 0x7f8f496d2280>,\n",
       " <matplotlib.lines.Line2D at 0x7f8f496d23a0>,\n",
       " <matplotlib.lines.Line2D at 0x7f8f496d24c0>,\n",
       " <matplotlib.lines.Line2D at 0x7f8f496d25e0>]"
      ]
     },
     "execution_count": 86,
     "metadata": {},
     "output_type": "execute_result"
    },
    {
     "data": {
      "image/png": "[encoded data removed]",
      "text/plain": [
       "<Figure size 432x288 with 1 Axes>"
      ]
     },
     "metadata": {
      "needs_background": "light"
     },
     "output_type": "display_data"
    }
   ],
   "source": [
    "plt.plot(xx2)"
   ]
  },
  {
   "cell_type": "code",
   "execution_count": null,
   "id": "2f64d79e",
   "metadata": {},
   "outputs": [],
   "source": [
    "sns.hist(z)"
   ]
  },
  {
   "cell_type": "code",
   "execution_count": 8,
   "id": "86bb5a36",
   "metadata": {},
   "outputs": [],
   "source": [
    "# tau_lst = [0,0.25,0.5,0.75,1,1.5]\n",
    "# T_lst = [256,512,1024]\n",
    "# m_lst = [8]\n",
    "\n",
    "# repli_s =5000\n",
    "\n",
    "# sigma=1.5\n",
    "# d_intrinsic = 6 # dimension \n",
    "# rho=0.1\n",
    "# zlst = []\n",
    "# for a in range(len(tau_lst)):\n",
    "#     for b in range(len(T_lst)):\n",
    "#         for c in range(len(m_lst)):\n",
    "#             tau = tau_lst[a]\n",
    "#             T =T_lst[b]# sample size\n",
    "# #             m=m_lst[c]\n",
    "#             znow = np.load('zval_sigma_'+str(sigma)+'rho_'+str(rho)+'T_'+str(T)+'m_'+str(m)+'tau_'+str(tau)+'_AR_power.npy')\n",
    "#             znow=np.mean(znow>stats.norm.ppf(0.95))\n",
    "#             zlst.append((tau, T, znow))"
   ]
  },
  {
   "cell_type": "code",
   "execution_count": 9,
   "id": "a393ce0c",
   "metadata": {},
   "outputs": [
    {
     "data": {
      "text/plain": [
       "[(0, 256, 0.0904),\n",
       " (0, 512, 0.071),\n",
       " (0, 1024, 0.0644),\n",
       " (0.25, 256, 0.2644),\n",
       " (0.25, 512, 0.3036),\n",
       " (0.25, 1024, 0.403),\n",
       " (0.5, 256, 0.631),\n",
       " (0.5, 512, 0.7714),\n",
       " (0.5, 1024, 0.917),\n",
       " (0.75, 256, 0.8488),\n",
       " (0.75, 512, 0.9438),\n",
       " (0.75, 1024, 0.9924),\n",
       " (1, 256, 0.9266),\n",
       " (1, 512, 0.9766),\n",
       " (1, 1024, 0.9992),\n",
       " (1.5, 256, 0.965),\n",
       " (1.5, 512, 0.9914),\n",
       " (1.5, 1024, 0.9998)]"
      ]
     },
     "execution_count": 9,
     "metadata": {},
     "output_type": "execute_result"
    }
   ],
   "source": [
    "zlst"
   ]
  },
  {
   "cell_type": "code",
   "execution_count": 35,
   "id": "e66c6de9",
   "metadata": {},
   "outputs": [],
   "source": [
    " #znow = np.load('zval_sigma_'+str(sigma)+'rho_'+str(rho)+'T_'+str(T)+'m_'+str(m)+'tau_'+str(tau)+'_AR_power.npy')"
   ]
  },
  {
   "cell_type": "code",
   "execution_count": 10,
   "id": "f1c61526",
   "metadata": {},
   "outputs": [
    {
     "data": {
      "image/png": "[encoded data removed]",
      "text/plain": [
       "<Figure size 576x432 with 1 Axes>"
      ]
     },
     "metadata": {
      "needs_background": "light"
     },
     "output_type": "display_data"
    }
   ],
   "source": [
    "z_array = np.array(zlst, dtype=[('tau', 'f4'), ('T', 'f4'), ('z', 'f4')])\n",
    "\n",
    "# Creating a DataFrame for seaborn\n",
    "z_df = pd.DataFrame(z_array)\n",
    "palette = sns.color_palette(\"Set2\")  # You can choose other palettes\n",
    "markers = [\"o\", \"s\", \"^\", \"D\", \"x\", \"*\", \"P\"]  # Different marker styles\n",
    "plt.figure(figsize=(8, 6))\n",
    "for i, (T, grp) in enumerate(z_df.groupby('T')):\n",
    "    sns.lineplot(data=grp, x='tau', y='z', label=f'T={int(T)}',\n",
    "                 color=palette[i % len(palette)], marker=markers[i % len(markers)],markersize=15)\n",
    "\n",
    "plt.title('Power curves for second order stationarity test in sphere', fontsize=15)\n",
    "plt.xlabel('tau')\n",
    "plt.ylabel('Power')\n",
    "plt.legend(title='T')\n",
    "plt.tight_layout()\n",
    "plt.savefig('Second_order_sphere.png',facecolor='w')"
   ]
  },
  {
   "cell_type": "code",
   "execution_count": 14,
   "id": "18b28bef",
   "metadata": {},
   "outputs": [
    {
     "data": {
      "text/plain": [
       "array([(0.  ,  128., 0.1294), (0.  ,  256., 0.0904),\n",
       "       (0.  ,  512., 0.071 ), (0.  , 1024., 0.0644),\n",
       "       (0.25,  128., 0.2784), (0.25,  256., 0.2644),\n",
       "       (0.25,  512., 0.3036), (0.25, 1024., 0.403 ),\n",
       "       (0.5 ,  128., 0.5632), (0.5 ,  256., 0.631 ),\n",
       "       (0.5 ,  512., 0.7714), (0.5 , 1024., 0.917 ),\n",
       "       (0.75,  128., 0.7724), (0.75,  256., 0.8488),\n",
       "       (0.75,  512., 0.9438), (0.75, 1024., 0.9924),\n",
       "       (1.  ,  128., 0.891 ), (1.  ,  256., 0.9266),\n",
       "       (1.  ,  512., 0.9766), (1.  , 1024., 0.9992),\n",
       "       (1.5 ,  128., 0.9492), (1.5 ,  256., 0.965 ),\n",
       "       (1.5 ,  512., 0.9914), (1.5 , 1024., 0.9998)],\n",
       "      dtype=[('tau', '<f4'), ('T', '<f4'), ('z', '<f4')])"
      ]
     },
     "execution_count": 14,
     "metadata": {},
     "output_type": "execute_result"
    }
   ],
   "source": [
    "z_array"
   ]
  },
  {
   "cell_type": "code",
   "execution_count": 8,
   "id": "30420646",
   "metadata": {},
   "outputs": [],
   "source": [
    "z_mat = np.zeros((5000,4))\n",
    "T_lst = [64,128,256,512]\n",
    "for l in range(4):\n",
    "    T= T_lst[l]\n",
    "    z_mat[:,l]=np.load('zval_sigma_'+str(1.5)+'rho_'+str(0.15)+'T_'+str(T)+'m_'+str(8)+'_AR_power.npy')\n"
   ]
  },
  {
   "cell_type": "code",
   "execution_count": 9,
   "id": "518f02c2",
   "metadata": {},
   "outputs": [
    {
     "data": {
      "text/plain": [
       "array([0.789 , 0.882 , 0.9264, 0.9756])"
      ]
     },
     "execution_count": 9,
     "metadata": {},
     "output_type": "execute_result"
    }
   ],
   "source": [
    "np.mean(z_mat>=stats.norm.ppf(0.95),axis=0)"
   ]
  }
 ],
 "metadata": {
  "kernelspec": {
   "display_name": "Python 3 (ipykernel)",
   "language": "python",
   "name": "python3"
  },
  "language_info": {
   "codemirror_mode": {
    "name": "ipython",
    "version": 3
   },
   "file_extension": ".py",
   "mimetype": "text/x-python",
   "name": "python",
   "nbconvert_exporter": "python",
   "pygments_lexer": "ipython3",
   "version": "3.9.7"
  }
 },
 "nbformat": 4,
 "nbformat_minor": 5
}
